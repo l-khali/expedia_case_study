{
 "cells": [
  {
   "cell_type": "code",
   "execution_count": 1,
   "metadata": {},
   "outputs": [],
   "source": [
    "import numpy as np\n",
    "import pandas as pd\n",
    "import matplotlib.pyplot as plt\n",
    "from matplotlib import rc\n",
    "from matplotlib.ticker import PercentFormatter\n",
    "from scipy.stats import mannwhitneyu, ttest_ind"
   ]
  },
  {
   "cell_type": "markdown",
   "metadata": {},
   "source": [
    "# **Initial Thoughts/Ideas to Investigate:**\n",
    "\n",
    "- Summary statistics\n",
    "    - What proportion of booking are mobile?\n",
    "    - Where are the mobile bookings made? (Pie chart)\n",
    "    - How has this changed over time (group by week or month)? (Use linear regression)\n",
    "- Hypothesis tests\n",
    "    - Any specific countries using one platform above others?\n",
    "    - Difference in booking windows between desktop users and mobile users? (t-test/welch's test)\n",
    "    - Difference in average booking value (will need to statify by country) (boxplot)?\n",
    "    - Difference in net orders?\n",
    "    - Are mobile users more/less likely to travel within same country/region?\n",
    "\n",
    "# **Further Questions:**\n",
    "\n",
    "- Given a more precise date/time of when bookings are made, could look for trends in when mobile devices are more commonly used\n",
    "- Given the Super Region associated with each Property Country, could investigate whether customers booking through mobile devices are more/less likely to travel within the same region or outside of it"
   ]
  },
  {
   "cell_type": "code",
   "execution_count": 2,
   "metadata": {},
   "outputs": [],
   "source": [
    "# importing data as data frame\n",
    "\n",
    "entire_data = pd.read_excel(\"expedia_dataset.xlsx\")"
   ]
  },
  {
   "cell_type": "code",
   "execution_count": 3,
   "metadata": {},
   "outputs": [
    {
     "data": {
      "text/html": [
       "<div>\n",
       "<style scoped>\n",
       "    .dataframe tbody tr th:only-of-type {\n",
       "        vertical-align: middle;\n",
       "    }\n",
       "\n",
       "    .dataframe tbody tr th {\n",
       "        vertical-align: top;\n",
       "    }\n",
       "\n",
       "    .dataframe thead th {\n",
       "        text-align: right;\n",
       "    }\n",
       "</style>\n",
       "<table border=\"1\" class=\"dataframe\">\n",
       "  <thead>\n",
       "    <tr style=\"text-align: right;\">\n",
       "      <th></th>\n",
       "      <th>Week</th>\n",
       "      <th>Mobile Indicator Name</th>\n",
       "      <th>Platform Type Name</th>\n",
       "      <th>Super Region</th>\n",
       "      <th>Country Name</th>\n",
       "      <th>Booking Window Group</th>\n",
       "      <th>Property Country</th>\n",
       "      <th>Net Gross Booking Value USD</th>\n",
       "      <th>Net Orders</th>\n",
       "    </tr>\n",
       "  </thead>\n",
       "  <tbody>\n",
       "    <tr>\n",
       "      <th>0</th>\n",
       "      <td>2016-W45</td>\n",
       "      <td>Desktop</td>\n",
       "      <td>Desktop</td>\n",
       "      <td>APAC</td>\n",
       "      <td>South Korea</td>\n",
       "      <td>8-14 days</td>\n",
       "      <td>Algeria</td>\n",
       "      <td>-608.4244</td>\n",
       "      <td>-3</td>\n",
       "    </tr>\n",
       "    <tr>\n",
       "      <th>1</th>\n",
       "      <td>2016-W45</td>\n",
       "      <td>Desktop</td>\n",
       "      <td>Desktop</td>\n",
       "      <td>APAC</td>\n",
       "      <td>South Korea</td>\n",
       "      <td>+90 days</td>\n",
       "      <td>Andorra</td>\n",
       "      <td>-512.1796</td>\n",
       "      <td>-2</td>\n",
       "    </tr>\n",
       "    <tr>\n",
       "      <th>2</th>\n",
       "      <td>2016-W45</td>\n",
       "      <td>Desktop</td>\n",
       "      <td>Desktop</td>\n",
       "      <td>APAC</td>\n",
       "      <td>South Korea</td>\n",
       "      <td>46-60 days</td>\n",
       "      <td>Andorra</td>\n",
       "      <td>103.4298</td>\n",
       "      <td>1</td>\n",
       "    </tr>\n",
       "    <tr>\n",
       "      <th>3</th>\n",
       "      <td>2016-W45</td>\n",
       "      <td>Desktop</td>\n",
       "      <td>Desktop</td>\n",
       "      <td>APAC</td>\n",
       "      <td>Australia</td>\n",
       "      <td>31-45 days</td>\n",
       "      <td>Argentina</td>\n",
       "      <td>395.9592</td>\n",
       "      <td>1</td>\n",
       "    </tr>\n",
       "    <tr>\n",
       "      <th>4</th>\n",
       "      <td>2016-W45</td>\n",
       "      <td>Desktop</td>\n",
       "      <td>Desktop</td>\n",
       "      <td>APAC</td>\n",
       "      <td>Australia</td>\n",
       "      <td>15-30 days</td>\n",
       "      <td>Argentina</td>\n",
       "      <td>373.4194</td>\n",
       "      <td>1</td>\n",
       "    </tr>\n",
       "    <tr>\n",
       "      <th>...</th>\n",
       "      <td>...</td>\n",
       "      <td>...</td>\n",
       "      <td>...</td>\n",
       "      <td>...</td>\n",
       "      <td>...</td>\n",
       "      <td>...</td>\n",
       "      <td>...</td>\n",
       "      <td>...</td>\n",
       "      <td>...</td>\n",
       "    </tr>\n",
       "    <tr>\n",
       "      <th>73683</th>\n",
       "      <td>2017-W48</td>\n",
       "      <td>Mobile</td>\n",
       "      <td>Mobile Web</td>\n",
       "      <td>NaN</td>\n",
       "      <td>US</td>\n",
       "      <td>15-30 days</td>\n",
       "      <td>Vietnam</td>\n",
       "      <td>748.2964</td>\n",
       "      <td>6</td>\n",
       "    </tr>\n",
       "    <tr>\n",
       "      <th>73684</th>\n",
       "      <td>2017-W48</td>\n",
       "      <td>Mobile</td>\n",
       "      <td>Mobile Web</td>\n",
       "      <td>NaN</td>\n",
       "      <td>US</td>\n",
       "      <td>31-45 days</td>\n",
       "      <td>Vietnam</td>\n",
       "      <td>2379.9672</td>\n",
       "      <td>7</td>\n",
       "    </tr>\n",
       "    <tr>\n",
       "      <th>73685</th>\n",
       "      <td>2017-W48</td>\n",
       "      <td>Mobile</td>\n",
       "      <td>Mobile Web</td>\n",
       "      <td>NaN</td>\n",
       "      <td>US</td>\n",
       "      <td>46-60 days</td>\n",
       "      <td>Vietnam</td>\n",
       "      <td>66.7100</td>\n",
       "      <td>1</td>\n",
       "    </tr>\n",
       "    <tr>\n",
       "      <th>73686</th>\n",
       "      <td>2017-W48</td>\n",
       "      <td>Mobile</td>\n",
       "      <td>Mobile Web</td>\n",
       "      <td>NaN</td>\n",
       "      <td>US</td>\n",
       "      <td>8-14 days</td>\n",
       "      <td>Vietnam</td>\n",
       "      <td>591.3000</td>\n",
       "      <td>2</td>\n",
       "    </tr>\n",
       "    <tr>\n",
       "      <th>73687</th>\n",
       "      <td>2017-W48</td>\n",
       "      <td>Mobile</td>\n",
       "      <td>Mobile Web</td>\n",
       "      <td>NaN</td>\n",
       "      <td>US</td>\n",
       "      <td>+90 days</td>\n",
       "      <td>Vietnam</td>\n",
       "      <td>-69.6500</td>\n",
       "      <td>1</td>\n",
       "    </tr>\n",
       "  </tbody>\n",
       "</table>\n",
       "<p>73688 rows × 9 columns</p>\n",
       "</div>"
      ],
      "text/plain": [
       "           Week Mobile Indicator Name Platform Type Name Super Region  \\\n",
       "0      2016-W45               Desktop            Desktop         APAC   \n",
       "1      2016-W45               Desktop            Desktop         APAC   \n",
       "2      2016-W45               Desktop            Desktop         APAC   \n",
       "3      2016-W45               Desktop            Desktop         APAC   \n",
       "4      2016-W45               Desktop            Desktop         APAC   \n",
       "...         ...                   ...                ...          ...   \n",
       "73683  2017-W48                Mobile         Mobile Web          NaN   \n",
       "73684  2017-W48                Mobile         Mobile Web          NaN   \n",
       "73685  2017-W48                Mobile         Mobile Web          NaN   \n",
       "73686  2017-W48                Mobile         Mobile Web          NaN   \n",
       "73687  2017-W48                Mobile         Mobile Web          NaN   \n",
       "\n",
       "      Country Name Booking Window Group Property Country  \\\n",
       "0      South Korea            8-14 days          Algeria   \n",
       "1      South Korea             +90 days          Andorra   \n",
       "2      South Korea           46-60 days          Andorra   \n",
       "3        Australia           31-45 days        Argentina   \n",
       "4        Australia           15-30 days        Argentina   \n",
       "...            ...                  ...              ...   \n",
       "73683           US           15-30 days          Vietnam   \n",
       "73684           US           31-45 days          Vietnam   \n",
       "73685           US           46-60 days          Vietnam   \n",
       "73686           US            8-14 days          Vietnam   \n",
       "73687           US             +90 days          Vietnam   \n",
       "\n",
       "       Net Gross Booking Value USD  Net Orders  \n",
       "0                        -608.4244          -3  \n",
       "1                        -512.1796          -2  \n",
       "2                         103.4298           1  \n",
       "3                         395.9592           1  \n",
       "4                         373.4194           1  \n",
       "...                            ...         ...  \n",
       "73683                     748.2964           6  \n",
       "73684                    2379.9672           7  \n",
       "73685                      66.7100           1  \n",
       "73686                     591.3000           2  \n",
       "73687                     -69.6500           1  \n",
       "\n",
       "[73688 rows x 9 columns]"
      ]
     },
     "execution_count": 3,
     "metadata": {},
     "output_type": "execute_result"
    }
   ],
   "source": [
    "entire_data"
   ]
  },
  {
   "cell_type": "code",
   "execution_count": 4,
   "metadata": {},
   "outputs": [
    {
     "data": {
      "text/html": [
       "<div>\n",
       "<style scoped>\n",
       "    .dataframe tbody tr th:only-of-type {\n",
       "        vertical-align: middle;\n",
       "    }\n",
       "\n",
       "    .dataframe tbody tr th {\n",
       "        vertical-align: top;\n",
       "    }\n",
       "\n",
       "    .dataframe thead th {\n",
       "        text-align: right;\n",
       "    }\n",
       "</style>\n",
       "<table border=\"1\" class=\"dataframe\">\n",
       "  <thead>\n",
       "    <tr style=\"text-align: right;\">\n",
       "      <th></th>\n",
       "      <th>Week</th>\n",
       "      <th>Mobile Indicator Name</th>\n",
       "      <th>Platform Type Name</th>\n",
       "      <th>Super Region</th>\n",
       "      <th>Country Name</th>\n",
       "      <th>Booking Window Group</th>\n",
       "      <th>Property Country</th>\n",
       "      <th>Net Gross Booking Value USD</th>\n",
       "      <th>Net Orders</th>\n",
       "      <th>Year</th>\n",
       "    </tr>\n",
       "  </thead>\n",
       "  <tbody>\n",
       "    <tr>\n",
       "      <th>0</th>\n",
       "      <td>2016-W45</td>\n",
       "      <td>Desktop</td>\n",
       "      <td>Desktop</td>\n",
       "      <td>APAC</td>\n",
       "      <td>South Korea</td>\n",
       "      <td>8-14 days</td>\n",
       "      <td>Algeria</td>\n",
       "      <td>-608.4244</td>\n",
       "      <td>-3</td>\n",
       "      <td>2016</td>\n",
       "    </tr>\n",
       "    <tr>\n",
       "      <th>1</th>\n",
       "      <td>2016-W45</td>\n",
       "      <td>Desktop</td>\n",
       "      <td>Desktop</td>\n",
       "      <td>APAC</td>\n",
       "      <td>South Korea</td>\n",
       "      <td>+90 days</td>\n",
       "      <td>Andorra</td>\n",
       "      <td>-512.1796</td>\n",
       "      <td>-2</td>\n",
       "      <td>2016</td>\n",
       "    </tr>\n",
       "    <tr>\n",
       "      <th>2</th>\n",
       "      <td>2016-W45</td>\n",
       "      <td>Desktop</td>\n",
       "      <td>Desktop</td>\n",
       "      <td>APAC</td>\n",
       "      <td>South Korea</td>\n",
       "      <td>46-60 days</td>\n",
       "      <td>Andorra</td>\n",
       "      <td>103.4298</td>\n",
       "      <td>1</td>\n",
       "      <td>2016</td>\n",
       "    </tr>\n",
       "    <tr>\n",
       "      <th>3</th>\n",
       "      <td>2016-W45</td>\n",
       "      <td>Desktop</td>\n",
       "      <td>Desktop</td>\n",
       "      <td>APAC</td>\n",
       "      <td>Australia</td>\n",
       "      <td>31-45 days</td>\n",
       "      <td>Argentina</td>\n",
       "      <td>395.9592</td>\n",
       "      <td>1</td>\n",
       "      <td>2016</td>\n",
       "    </tr>\n",
       "    <tr>\n",
       "      <th>4</th>\n",
       "      <td>2016-W45</td>\n",
       "      <td>Desktop</td>\n",
       "      <td>Desktop</td>\n",
       "      <td>APAC</td>\n",
       "      <td>Australia</td>\n",
       "      <td>15-30 days</td>\n",
       "      <td>Argentina</td>\n",
       "      <td>373.4194</td>\n",
       "      <td>1</td>\n",
       "      <td>2016</td>\n",
       "    </tr>\n",
       "    <tr>\n",
       "      <th>...</th>\n",
       "      <td>...</td>\n",
       "      <td>...</td>\n",
       "      <td>...</td>\n",
       "      <td>...</td>\n",
       "      <td>...</td>\n",
       "      <td>...</td>\n",
       "      <td>...</td>\n",
       "      <td>...</td>\n",
       "      <td>...</td>\n",
       "      <td>...</td>\n",
       "    </tr>\n",
       "    <tr>\n",
       "      <th>73683</th>\n",
       "      <td>2017-W48</td>\n",
       "      <td>Mobile</td>\n",
       "      <td>Mobile Web</td>\n",
       "      <td>NaN</td>\n",
       "      <td>US</td>\n",
       "      <td>15-30 days</td>\n",
       "      <td>Vietnam</td>\n",
       "      <td>748.2964</td>\n",
       "      <td>6</td>\n",
       "      <td>2017</td>\n",
       "    </tr>\n",
       "    <tr>\n",
       "      <th>73684</th>\n",
       "      <td>2017-W48</td>\n",
       "      <td>Mobile</td>\n",
       "      <td>Mobile Web</td>\n",
       "      <td>NaN</td>\n",
       "      <td>US</td>\n",
       "      <td>31-45 days</td>\n",
       "      <td>Vietnam</td>\n",
       "      <td>2379.9672</td>\n",
       "      <td>7</td>\n",
       "      <td>2017</td>\n",
       "    </tr>\n",
       "    <tr>\n",
       "      <th>73685</th>\n",
       "      <td>2017-W48</td>\n",
       "      <td>Mobile</td>\n",
       "      <td>Mobile Web</td>\n",
       "      <td>NaN</td>\n",
       "      <td>US</td>\n",
       "      <td>46-60 days</td>\n",
       "      <td>Vietnam</td>\n",
       "      <td>66.7100</td>\n",
       "      <td>1</td>\n",
       "      <td>2017</td>\n",
       "    </tr>\n",
       "    <tr>\n",
       "      <th>73686</th>\n",
       "      <td>2017-W48</td>\n",
       "      <td>Mobile</td>\n",
       "      <td>Mobile Web</td>\n",
       "      <td>NaN</td>\n",
       "      <td>US</td>\n",
       "      <td>8-14 days</td>\n",
       "      <td>Vietnam</td>\n",
       "      <td>591.3000</td>\n",
       "      <td>2</td>\n",
       "      <td>2017</td>\n",
       "    </tr>\n",
       "    <tr>\n",
       "      <th>73687</th>\n",
       "      <td>2017-W48</td>\n",
       "      <td>Mobile</td>\n",
       "      <td>Mobile Web</td>\n",
       "      <td>NaN</td>\n",
       "      <td>US</td>\n",
       "      <td>+90 days</td>\n",
       "      <td>Vietnam</td>\n",
       "      <td>-69.6500</td>\n",
       "      <td>1</td>\n",
       "      <td>2017</td>\n",
       "    </tr>\n",
       "  </tbody>\n",
       "</table>\n",
       "<p>73688 rows × 10 columns</p>\n",
       "</div>"
      ],
      "text/plain": [
       "           Week Mobile Indicator Name Platform Type Name Super Region  \\\n",
       "0      2016-W45               Desktop            Desktop         APAC   \n",
       "1      2016-W45               Desktop            Desktop         APAC   \n",
       "2      2016-W45               Desktop            Desktop         APAC   \n",
       "3      2016-W45               Desktop            Desktop         APAC   \n",
       "4      2016-W45               Desktop            Desktop         APAC   \n",
       "...         ...                   ...                ...          ...   \n",
       "73683  2017-W48                Mobile         Mobile Web          NaN   \n",
       "73684  2017-W48                Mobile         Mobile Web          NaN   \n",
       "73685  2017-W48                Mobile         Mobile Web          NaN   \n",
       "73686  2017-W48                Mobile         Mobile Web          NaN   \n",
       "73687  2017-W48                Mobile         Mobile Web          NaN   \n",
       "\n",
       "      Country Name Booking Window Group Property Country  \\\n",
       "0      South Korea            8-14 days          Algeria   \n",
       "1      South Korea             +90 days          Andorra   \n",
       "2      South Korea           46-60 days          Andorra   \n",
       "3        Australia           31-45 days        Argentina   \n",
       "4        Australia           15-30 days        Argentina   \n",
       "...            ...                  ...              ...   \n",
       "73683           US           15-30 days          Vietnam   \n",
       "73684           US           31-45 days          Vietnam   \n",
       "73685           US           46-60 days          Vietnam   \n",
       "73686           US            8-14 days          Vietnam   \n",
       "73687           US             +90 days          Vietnam   \n",
       "\n",
       "       Net Gross Booking Value USD  Net Orders  Year  \n",
       "0                        -608.4244          -3  2016  \n",
       "1                        -512.1796          -2  2016  \n",
       "2                         103.4298           1  2016  \n",
       "3                         395.9592           1  2016  \n",
       "4                         373.4194           1  2016  \n",
       "...                            ...         ...   ...  \n",
       "73683                     748.2964           6  2017  \n",
       "73684                    2379.9672           7  2017  \n",
       "73685                      66.7100           1  2017  \n",
       "73686                     591.3000           2  2017  \n",
       "73687                     -69.6500           1  2017  \n",
       "\n",
       "[73688 rows x 10 columns]"
      ]
     },
     "execution_count": 4,
     "metadata": {},
     "output_type": "execute_result"
    }
   ],
   "source": [
    "entire_data[\"Year\"] = [int(list(entire_data[\"Week\"])[x][0:4]) for x in range(len(entire_data))]\n",
    "entire_data"
   ]
  },
  {
   "cell_type": "markdown",
   "metadata": {},
   "source": [
    "### **Data Quality Issue**\n",
    "There are **3405** instances of the data where the 'Net Orders' is a negative number. This is assummed to be data quality issue since if a customer cancels all bookings then expect 'Net Orders' to be 0.\n",
    "\n",
    "This makes up about **4.6%** of the data, so I have chosen to **remove** them.\n",
    "\n",
    "Another option would have been to also consider whther the 'Net Gross Booking Value USD' was positive or negative and postentially take the negative instances to be bookings that were fully cancelled (assuming that the booking were technically cancelled more than once) - in a real life situation I would have discussed this with a more experienced collegue or the person who provided the data."
   ]
  },
  {
   "cell_type": "code",
   "execution_count": 7,
   "metadata": {},
   "outputs": [],
   "source": [
    "entire_data = entire_data[entire_data['Net Orders'] >= 0]"
   ]
  },
  {
   "cell_type": "code",
   "execution_count": 8,
   "metadata": {},
   "outputs": [
    {
     "data": {
      "text/plain": [
       "3083"
      ]
     },
     "execution_count": 8,
     "metadata": {},
     "output_type": "execute_result"
    }
   ],
   "source": [
    "(entire_data[\"Net Gross Booking Value USD\"] < 0).sum()"
   ]
  },
  {
   "cell_type": "markdown",
   "metadata": {},
   "source": [
    "### **Data Quality Issue**\n",
    "There are a further **3083** instances where the 'Net Gross Booking Value USD' is strictly negative.\n",
    "\n",
    "Again, I will assume that this is because bookings have technically been cancelled more than once on the system. With the data provided, I am unable to recover the actual booking value but this could potentially be resolved given the initial number of bookings and the number of bookings cancelled and the values of each of these.\n",
    "\n",
    "To resolve this, these instances will also be removed. At this point, around **8.8%** of the initial data has been removed.\n",
    "\n",
    "There are also a small number of instances of cancelled bookings with very low, but non-zero 'Net Gross Booking Value USD'. I will assume that this may be due to small fares not being refunded or currency issues and leave these as is. These values are close to zero anyway so are unlikely to skew the analysis much."
   ]
  },
  {
   "cell_type": "code",
   "execution_count": 10,
   "metadata": {},
   "outputs": [],
   "source": [
    "entire_data = entire_data[entire_data['Net Gross Booking Value USD'] >= 0]"
   ]
  },
  {
   "cell_type": "code",
   "execution_count": 11,
   "metadata": {},
   "outputs": [],
   "source": [
    "# seperate into desktop and mobile bookings\n",
    "\n",
    "desktop_data = entire_data[entire_data[\"Mobile Indicator Name\"] == \"Desktop\"]\n",
    "mobile_data = entire_data[entire_data[\"Mobile Indicator Name\"] == \"Mobile\"]\n",
    "mobile_web_data = mobile_data[mobile_data[\"Platform Type Name\"] == \"Mobile Web\"]\n",
    "mobile_app_data = mobile_data[mobile_data[\"Platform Type Name\"] == \"Mobile App\"]"
   ]
  },
  {
   "cell_type": "code",
   "execution_count": 12,
   "metadata": {},
   "outputs": [],
   "source": [
    "# with pd.ExcelWriter('separated_data.xlsx') as writer:  \n",
    "#     desktop_data.to_excel(writer, sheet_name='desktop')\n",
    "#     mobile_data.to_excel(writer, sheet_name='mobile')\n",
    "#     mobile_web_data.to_excel(writer, sheet_name='mobile_web')\n",
    "#     mobile_app_data.to_excel(writer, sheet_name='mobile_app')"
   ]
  },
  {
   "cell_type": "code",
   "execution_count": 13,
   "metadata": {},
   "outputs": [
    {
     "name": "stdout",
     "output_type": "stream",
     "text": [
      "True\n",
      "True\n"
     ]
    }
   ],
   "source": [
    "# checking there are no missing bookings\n",
    "\n",
    "print(len(desktop_data) + len(mobile_data) == len(entire_data))\n",
    "print(len(desktop_data) + len(mobile_web_data) + len(mobile_app_data) == len(entire_data))"
   ]
  },
  {
   "cell_type": "code",
   "execution_count": 14,
   "metadata": {},
   "outputs": [
    {
     "name": "stdout",
     "output_type": "stream",
     "text": [
      "Overall percentage of mobile bookings (including those which were cancelled): 52.20982142857143%\n",
      "Out of the mobile bookings, percentage made on app: 48.7416274761294%\n",
      "Out of the mobile bookings, percentage made on web: 51.2583725238706%\n"
     ]
    }
   ],
   "source": [
    "print(f\"Overall percentage of mobile bookings (including those which were cancelled): {100 * len(mobile_data)/len(entire_data)}%\")\n",
    "print(f\"Out of the mobile bookings, percentage made on app: {100 * len(mobile_app_data)/len(mobile_data)}%\")\n",
    "print(f\"Out of the mobile bookings, percentage made on web: {100 * len(mobile_web_data)/len(mobile_data)}%\")"
   ]
  },
  {
   "cell_type": "code",
   "execution_count": 15,
   "metadata": {},
   "outputs": [],
   "source": [
    "#delete:\n",
    "# Will start by just considering the bookings which were not cancelled, and then will conduct some analysis to see whether there are any links between device and amount of cancelled bookings"
   ]
  },
  {
   "cell_type": "code",
   "execution_count": 16,
   "metadata": {},
   "outputs": [],
   "source": [
    "#delete:\n",
    "# desktop_data_fullfilled = desktop_data[desktop_data[\"Net Orders\"] > 0]\n",
    "# mobile_data_fullfilled = mobile_data[mobile_data[\"Net Orders\"] > 0]\n",
    "# mobile_web_data_fullfilled = mobile_web_data[mobile_web_data[\"Net Orders\"] > 0]\n",
    "# mobile_app_data_fullfilled = mobile_app_data[mobile_app_data[\"Net Orders\"] > 0]"
   ]
  },
  {
   "cell_type": "markdown",
   "metadata": {},
   "source": [
    "## **How did the amount of mobile bookings changed between 2016 and 2017?**"
   ]
  },
  {
   "cell_type": "code",
   "execution_count": 17,
   "metadata": {},
   "outputs": [
    {
     "data": {
      "text/html": [
       "<div>\n",
       "<style scoped>\n",
       "    .dataframe tbody tr th:only-of-type {\n",
       "        vertical-align: middle;\n",
       "    }\n",
       "\n",
       "    .dataframe tbody tr th {\n",
       "        vertical-align: top;\n",
       "    }\n",
       "\n",
       "    .dataframe thead th {\n",
       "        text-align: right;\n",
       "    }\n",
       "</style>\n",
       "<table border=\"1\" class=\"dataframe\">\n",
       "  <thead>\n",
       "    <tr style=\"text-align: right;\">\n",
       "      <th></th>\n",
       "      <th>Mobile Indicator Name</th>\n",
       "      <th>Platform Type Name</th>\n",
       "      <th>Super Region</th>\n",
       "      <th>Country Name</th>\n",
       "      <th>Booking Window Group</th>\n",
       "      <th>Property Country</th>\n",
       "      <th>Net Gross Booking Value USD</th>\n",
       "      <th>Net Orders</th>\n",
       "      <th>Year</th>\n",
       "    </tr>\n",
       "    <tr>\n",
       "      <th>Week</th>\n",
       "      <th></th>\n",
       "      <th></th>\n",
       "      <th></th>\n",
       "      <th></th>\n",
       "      <th></th>\n",
       "      <th></th>\n",
       "      <th></th>\n",
       "      <th></th>\n",
       "      <th></th>\n",
       "    </tr>\n",
       "  </thead>\n",
       "  <tbody>\n",
       "    <tr>\n",
       "      <th>2016-W45</th>\n",
       "      <td>7785</td>\n",
       "      <td>7785</td>\n",
       "      <td>5667</td>\n",
       "      <td>7785</td>\n",
       "      <td>7785</td>\n",
       "      <td>7785</td>\n",
       "      <td>7785</td>\n",
       "      <td>7785</td>\n",
       "      <td>7785</td>\n",
       "    </tr>\n",
       "    <tr>\n",
       "      <th>2016-W46</th>\n",
       "      <td>7882</td>\n",
       "      <td>7882</td>\n",
       "      <td>5723</td>\n",
       "      <td>7882</td>\n",
       "      <td>7882</td>\n",
       "      <td>7882</td>\n",
       "      <td>7882</td>\n",
       "      <td>7882</td>\n",
       "      <td>7882</td>\n",
       "    </tr>\n",
       "    <tr>\n",
       "      <th>2016-W47</th>\n",
       "      <td>7633</td>\n",
       "      <td>7633</td>\n",
       "      <td>5508</td>\n",
       "      <td>7633</td>\n",
       "      <td>7633</td>\n",
       "      <td>7633</td>\n",
       "      <td>7633</td>\n",
       "      <td>7633</td>\n",
       "      <td>7633</td>\n",
       "    </tr>\n",
       "    <tr>\n",
       "      <th>2016-W48</th>\n",
       "      <td>7664</td>\n",
       "      <td>7664</td>\n",
       "      <td>5560</td>\n",
       "      <td>7664</td>\n",
       "      <td>7664</td>\n",
       "      <td>7664</td>\n",
       "      <td>7664</td>\n",
       "      <td>7664</td>\n",
       "      <td>7664</td>\n",
       "    </tr>\n",
       "    <tr>\n",
       "      <th>2017-W45</th>\n",
       "      <td>9280</td>\n",
       "      <td>9280</td>\n",
       "      <td>6791</td>\n",
       "      <td>9280</td>\n",
       "      <td>9280</td>\n",
       "      <td>9280</td>\n",
       "      <td>9280</td>\n",
       "      <td>9280</td>\n",
       "      <td>9280</td>\n",
       "    </tr>\n",
       "    <tr>\n",
       "      <th>2017-W46</th>\n",
       "      <td>9200</td>\n",
       "      <td>9200</td>\n",
       "      <td>6741</td>\n",
       "      <td>9200</td>\n",
       "      <td>9200</td>\n",
       "      <td>9200</td>\n",
       "      <td>9200</td>\n",
       "      <td>9200</td>\n",
       "      <td>9200</td>\n",
       "    </tr>\n",
       "    <tr>\n",
       "      <th>2017-W47</th>\n",
       "      <td>8794</td>\n",
       "      <td>8794</td>\n",
       "      <td>6415</td>\n",
       "      <td>8794</td>\n",
       "      <td>8794</td>\n",
       "      <td>8794</td>\n",
       "      <td>8794</td>\n",
       "      <td>8794</td>\n",
       "      <td>8794</td>\n",
       "    </tr>\n",
       "    <tr>\n",
       "      <th>2017-W48</th>\n",
       "      <td>8962</td>\n",
       "      <td>8962</td>\n",
       "      <td>6578</td>\n",
       "      <td>8962</td>\n",
       "      <td>8962</td>\n",
       "      <td>8962</td>\n",
       "      <td>8962</td>\n",
       "      <td>8962</td>\n",
       "      <td>8962</td>\n",
       "    </tr>\n",
       "  </tbody>\n",
       "</table>\n",
       "</div>"
      ],
      "text/plain": [
       "          Mobile Indicator Name  Platform Type Name  Super Region  \\\n",
       "Week                                                                \n",
       "2016-W45                   7785                7785          5667   \n",
       "2016-W46                   7882                7882          5723   \n",
       "2016-W47                   7633                7633          5508   \n",
       "2016-W48                   7664                7664          5560   \n",
       "2017-W45                   9280                9280          6791   \n",
       "2017-W46                   9200                9200          6741   \n",
       "2017-W47                   8794                8794          6415   \n",
       "2017-W48                   8962                8962          6578   \n",
       "\n",
       "          Country Name  Booking Window Group  Property Country  \\\n",
       "Week                                                             \n",
       "2016-W45          7785                  7785              7785   \n",
       "2016-W46          7882                  7882              7882   \n",
       "2016-W47          7633                  7633              7633   \n",
       "2016-W48          7664                  7664              7664   \n",
       "2017-W45          9280                  9280              9280   \n",
       "2017-W46          9200                  9200              9200   \n",
       "2017-W47          8794                  8794              8794   \n",
       "2017-W48          8962                  8962              8962   \n",
       "\n",
       "          Net Gross Booking Value USD  Net Orders  Year  \n",
       "Week                                                     \n",
       "2016-W45                         7785        7785  7785  \n",
       "2016-W46                         7882        7882  7882  \n",
       "2016-W47                         7633        7633  7633  \n",
       "2016-W48                         7664        7664  7664  \n",
       "2017-W45                         9280        9280  9280  \n",
       "2017-W46                         9200        9200  9200  \n",
       "2017-W47                         8794        8794  8794  \n",
       "2017-W48                         8962        8962  8962  "
      ]
     },
     "execution_count": 17,
     "metadata": {},
     "output_type": "execute_result"
    }
   ],
   "source": [
    "entire_data.groupby(by=[\"Week\"]).count()"
   ]
  },
  {
   "cell_type": "code",
   "execution_count": 18,
   "metadata": {},
   "outputs": [
    {
     "data": {
      "text/plain": [
       "True"
      ]
     },
     "execution_count": 18,
     "metadata": {},
     "output_type": "execute_result"
    }
   ],
   "source": [
    "entire_data.groupby(by=[\"Week\"]).count()[\"Mobile Indicator Name\"].sum() == len(entire_data)"
   ]
  },
  {
   "cell_type": "code",
   "execution_count": 19,
   "metadata": {},
   "outputs": [
    {
     "data": {
      "text/html": [
       "<div>\n",
       "<style scoped>\n",
       "    .dataframe tbody tr th:only-of-type {\n",
       "        vertical-align: middle;\n",
       "    }\n",
       "\n",
       "    .dataframe tbody tr th {\n",
       "        vertical-align: top;\n",
       "    }\n",
       "\n",
       "    .dataframe thead th {\n",
       "        text-align: right;\n",
       "    }\n",
       "</style>\n",
       "<table border=\"1\" class=\"dataframe\">\n",
       "  <thead>\n",
       "    <tr style=\"text-align: right;\">\n",
       "      <th></th>\n",
       "      <th>Mobile Indicator Name</th>\n",
       "      <th>Platform Type Name</th>\n",
       "      <th>Super Region</th>\n",
       "      <th>Country Name</th>\n",
       "      <th>Booking Window Group</th>\n",
       "      <th>Property Country</th>\n",
       "      <th>Net Gross Booking Value USD</th>\n",
       "      <th>Net Orders</th>\n",
       "      <th>Year</th>\n",
       "    </tr>\n",
       "    <tr>\n",
       "      <th>Week</th>\n",
       "      <th></th>\n",
       "      <th></th>\n",
       "      <th></th>\n",
       "      <th></th>\n",
       "      <th></th>\n",
       "      <th></th>\n",
       "      <th></th>\n",
       "      <th></th>\n",
       "      <th></th>\n",
       "    </tr>\n",
       "  </thead>\n",
       "  <tbody>\n",
       "    <tr>\n",
       "      <th>2016-W45</th>\n",
       "      <td>3883</td>\n",
       "      <td>3883</td>\n",
       "      <td>2782</td>\n",
       "      <td>3883</td>\n",
       "      <td>3883</td>\n",
       "      <td>3883</td>\n",
       "      <td>3883</td>\n",
       "      <td>3883</td>\n",
       "      <td>3883</td>\n",
       "    </tr>\n",
       "    <tr>\n",
       "      <th>2016-W46</th>\n",
       "      <td>3951</td>\n",
       "      <td>3951</td>\n",
       "      <td>2812</td>\n",
       "      <td>3951</td>\n",
       "      <td>3951</td>\n",
       "      <td>3951</td>\n",
       "      <td>3951</td>\n",
       "      <td>3951</td>\n",
       "      <td>3951</td>\n",
       "    </tr>\n",
       "    <tr>\n",
       "      <th>2016-W47</th>\n",
       "      <td>3812</td>\n",
       "      <td>3812</td>\n",
       "      <td>2715</td>\n",
       "      <td>3812</td>\n",
       "      <td>3812</td>\n",
       "      <td>3812</td>\n",
       "      <td>3812</td>\n",
       "      <td>3812</td>\n",
       "      <td>3812</td>\n",
       "    </tr>\n",
       "    <tr>\n",
       "      <th>2016-W48</th>\n",
       "      <td>3872</td>\n",
       "      <td>3872</td>\n",
       "      <td>2747</td>\n",
       "      <td>3872</td>\n",
       "      <td>3872</td>\n",
       "      <td>3872</td>\n",
       "      <td>3872</td>\n",
       "      <td>3872</td>\n",
       "      <td>3872</td>\n",
       "    </tr>\n",
       "    <tr>\n",
       "      <th>2017-W45</th>\n",
       "      <td>5015</td>\n",
       "      <td>5015</td>\n",
       "      <td>3619</td>\n",
       "      <td>5015</td>\n",
       "      <td>5015</td>\n",
       "      <td>5015</td>\n",
       "      <td>5015</td>\n",
       "      <td>5015</td>\n",
       "      <td>5015</td>\n",
       "    </tr>\n",
       "    <tr>\n",
       "      <th>2017-W46</th>\n",
       "      <td>5001</td>\n",
       "      <td>5001</td>\n",
       "      <td>3627</td>\n",
       "      <td>5001</td>\n",
       "      <td>5001</td>\n",
       "      <td>5001</td>\n",
       "      <td>5001</td>\n",
       "      <td>5001</td>\n",
       "      <td>5001</td>\n",
       "    </tr>\n",
       "    <tr>\n",
       "      <th>2017-W47</th>\n",
       "      <td>4713</td>\n",
       "      <td>4713</td>\n",
       "      <td>3396</td>\n",
       "      <td>4713</td>\n",
       "      <td>4713</td>\n",
       "      <td>4713</td>\n",
       "      <td>4713</td>\n",
       "      <td>4713</td>\n",
       "      <td>4713</td>\n",
       "    </tr>\n",
       "    <tr>\n",
       "      <th>2017-W48</th>\n",
       "      <td>4838</td>\n",
       "      <td>4838</td>\n",
       "      <td>3478</td>\n",
       "      <td>4838</td>\n",
       "      <td>4838</td>\n",
       "      <td>4838</td>\n",
       "      <td>4838</td>\n",
       "      <td>4838</td>\n",
       "      <td>4838</td>\n",
       "    </tr>\n",
       "  </tbody>\n",
       "</table>\n",
       "</div>"
      ],
      "text/plain": [
       "          Mobile Indicator Name  Platform Type Name  Super Region  \\\n",
       "Week                                                                \n",
       "2016-W45                   3883                3883          2782   \n",
       "2016-W46                   3951                3951          2812   \n",
       "2016-W47                   3812                3812          2715   \n",
       "2016-W48                   3872                3872          2747   \n",
       "2017-W45                   5015                5015          3619   \n",
       "2017-W46                   5001                5001          3627   \n",
       "2017-W47                   4713                4713          3396   \n",
       "2017-W48                   4838                4838          3478   \n",
       "\n",
       "          Country Name  Booking Window Group  Property Country  \\\n",
       "Week                                                             \n",
       "2016-W45          3883                  3883              3883   \n",
       "2016-W46          3951                  3951              3951   \n",
       "2016-W47          3812                  3812              3812   \n",
       "2016-W48          3872                  3872              3872   \n",
       "2017-W45          5015                  5015              5015   \n",
       "2017-W46          5001                  5001              5001   \n",
       "2017-W47          4713                  4713              4713   \n",
       "2017-W48          4838                  4838              4838   \n",
       "\n",
       "          Net Gross Booking Value USD  Net Orders  Year  \n",
       "Week                                                     \n",
       "2016-W45                         3883        3883  3883  \n",
       "2016-W46                         3951        3951  3951  \n",
       "2016-W47                         3812        3812  3812  \n",
       "2016-W48                         3872        3872  3872  \n",
       "2017-W45                         5015        5015  5015  \n",
       "2017-W46                         5001        5001  5001  \n",
       "2017-W47                         4713        4713  4713  \n",
       "2017-W48                         4838        4838  4838  "
      ]
     },
     "execution_count": 19,
     "metadata": {},
     "output_type": "execute_result"
    }
   ],
   "source": [
    "mobile_data.groupby(by=[\"Week\"]).count()"
   ]
  },
  {
   "cell_type": "code",
   "execution_count": 20,
   "metadata": {},
   "outputs": [],
   "source": [
    "desktop_proportion = desktop_data.groupby(by=[\"Week\"]).count()[\"Mobile Indicator Name\"] / entire_data.groupby(by=[\"Week\"]).count()[\"Mobile Indicator Name\"]\n",
    "mobile_proportion = mobile_data.groupby(by=[\"Week\"]).count()[\"Mobile Indicator Name\"] / entire_data.groupby(by=[\"Week\"]).count()[\"Mobile Indicator Name\"]\n",
    "mobile_app_proportion = mobile_app_data.groupby(by=[\"Week\"]).count()[\"Mobile Indicator Name\"] / entire_data.groupby(by=[\"Week\"]).count()[\"Mobile Indicator Name\"]\n",
    "mobile_web_proportion = mobile_web_data.groupby(by=[\"Week\"]).count()[\"Mobile Indicator Name\"] / entire_data.groupby(by=[\"Week\"]).count()[\"Mobile Indicator Name\"]"
   ]
  },
  {
   "cell_type": "code",
   "execution_count": 21,
   "metadata": {},
   "outputs": [],
   "source": [
    "plt.rcParams.update({'font.size': 12})"
   ]
  },
  {
   "cell_type": "code",
   "execution_count": 22,
   "metadata": {},
   "outputs": [
    {
     "data": {
      "text/plain": [
       "Text(0.5, 0, 'Proportion of Each Device Type')"
      ]
     },
     "execution_count": 22,
     "metadata": {},
     "output_type": "execute_result"
    },
    {
     "data": {
      "image/png": "[encoded data removed]",
      "text/plain": [
       "<Figure size 432x288 with 1 Axes>"
      ]
     },
     "metadata": {
      "needs_background": "light"
     },
     "output_type": "display_data"
    }
   ],
   "source": [
    "rc('font', weight='bold')\n",
    "\n",
    "bars = np.add(mobile_app_proportion, mobile_web_proportion).tolist()\n",
    "\n",
    "labels = [\"2016-W45\", \"2016-W46\", \"2016-W47\", \"2016-W48\", \"2017-W45\", \"2017-W46\", \"2017-W47\", \"2017-W48\"]\n",
    "plt.barh([0,1,2,3,5,6,7,8], mobile_app_proportion, color='#0000FD', label = \"Mobile App\", edgecolor='white')\n",
    "plt.barh([0,1,2,3,5,6,7,8], mobile_web_proportion, color='#58DFB8', left = mobile_app_proportion, label = 'Mobile Website', edgecolor='white')\n",
    "plt.barh([0,1,2,3,5,6,7,8], desktop_proportion, color='#FF5741', left = bars, label = 'Desktop', edgecolor='white')\n",
    "plt.legend(loc='upper center', bbox_to_anchor=(0.39, -0.2), fancybox=True, shadow=True, ncol=3)\n",
    "plt.yticks([0,1,2,3,5,6,7,8], labels, fontweight='bold')\n",
    "plt.ylabel(\"Year and Week (Month of November)\")\n",
    "plt.xlabel(\"Proportion of Each Device Type\")\n"
   ]
  },
  {
   "cell_type": "markdown",
   "metadata": {},
   "source": [
    "Conducting Mann-Whitney hypothesis test to deduce whether the proportions of mobile bookings in 2016 and 2017 are likely to come from different distributions.\n",
    "\n",
    "This test is used since it does not assume a particular underlying ditribution such as normal."
   ]
  },
  {
   "cell_type": "code",
   "execution_count": 23,
   "metadata": {},
   "outputs": [
    {
     "data": {
      "text/plain": [
       "MannwhitneyuResult(statistic=0.0, pvalue=0.014285714285714285)"
      ]
     },
     "execution_count": 23,
     "metadata": {},
     "output_type": "execute_result"
    }
   ],
   "source": [
    "mannwhitneyu(mobile_proportion[0:4], mobile_proportion[4:8], alternative=\"less\")\n",
    "# ttest_ind(mobile_proportion[0:4], mobile_proportion[4:8], equal_var=False)"
   ]
  },
  {
   "cell_type": "markdown",
   "metadata": {},
   "source": [
    "Significant at $\\alpha = 0.05$"
   ]
  },
  {
   "cell_type": "markdown",
   "metadata": {},
   "source": [
    "## **Is this growth in app or website usage or both?**"
   ]
  },
  {
   "cell_type": "code",
   "execution_count": 24,
   "metadata": {},
   "outputs": [],
   "source": [
    "average_app_proportions = [mobile_app_proportion[0:4].mean(), 0, mobile_app_proportion[4:8].mean(), 0]\n",
    "average_web_proportions = [0, mobile_web_proportion[0:4].mean(), 0, mobile_web_proportion[4:8].mean()]"
   ]
  },
  {
   "cell_type": "code",
   "execution_count": 25,
   "metadata": {},
   "outputs": [
    {
     "data": {
      "text/plain": [
       "Text(0.5, 0, 'Year')"
      ]
     },
     "execution_count": 25,
     "metadata": {},
     "output_type": "execute_result"
    },
    {
     "data": {
      "image/png": "[encoded data removed]",
      "text/plain": [
       "<Figure size 432x288 with 1 Axes>"
      ]
     },
     "metadata": {
      "needs_background": "light"
     },
     "output_type": "display_data"
    }
   ],
   "source": [
    "rc('font', weight='bold')\n",
    "\n",
    "plt.bar([0,1,2.5,3.5], average_app_proportions, color='#0000FD', label = \"Mobile App\", edgecolor='white')\n",
    "plt.bar([0,1,2.5,3.5], average_web_proportions, color='#58DFB8', label = \"Mobile Website\", edgecolor='white')\n",
    "plt.xticks([0.5, 3], [\"2016\", \"2017\"], fontweight='bold')\n",
    "plt.legend(loc='upper center', bbox_to_anchor=(0.5, -0.2), fancybox=True, shadow=True, ncol=3)\n",
    "plt.ylabel(\"Proportion of Each Device Type\")\n",
    "plt.xlabel(\"Year\")"
   ]
  },
  {
   "cell_type": "code",
   "execution_count": 26,
   "metadata": {},
   "outputs": [
    {
     "data": {
      "text/plain": [
       "<matplotlib.lines.Line2D at 0x7ffd525f03d0>"
      ]
     },
     "execution_count": 26,
     "metadata": {},
     "output_type": "execute_result"
    },
    {
     "data": {
      "image/png": "[encoded data removed]",
      "text/plain": [
       "<Figure size 432x288 with 1 Axes>"
      ]
     },
     "metadata": {
      "needs_background": "light"
     },
     "output_type": "display_data"
    }
   ],
   "source": [
    "rc('font', weight='bold')\n",
    "\n",
    "plt.bar([0,1,2.5,3.5], average_app_proportions, color='#0000FD', label = \"Mobile App\", edgecolor='white')\n",
    "plt.bar([0,1,2.5,3.5], average_web_proportions, color='#58DFB8', label = \"Mobile Website\", edgecolor='white')\n",
    "plt.xticks([0.5, 3], [\"2016\", \"2017\"], fontweight='bold')\n",
    "plt.legend(loc='upper center', bbox_to_anchor=(0.5, -0.2), fancybox=True, shadow=True, ncol=3)\n",
    "plt.ylabel(\"Proportion of Each Device Type\")\n",
    "plt.xlabel(\"Year\")\n",
    "plt.axhline(mobile_app_proportion[0:4].mean(), color='#FF5741', linestyle='--')\n",
    "# plt.axhline(mobile_web_proportion[0:4].mean(), color='#FF5741', linestyle='--')"
   ]
  },
  {
   "cell_type": "code",
   "execution_count": 27,
   "metadata": {},
   "outputs": [
    {
     "data": {
      "text/plain": [
       "MannwhitneyuResult(statistic=0.0, pvalue=0.014285714285714285)"
      ]
     },
     "execution_count": 27,
     "metadata": {},
     "output_type": "execute_result"
    }
   ],
   "source": [
    "mannwhitneyu(mobile_app_proportion[0:4], mobile_app_proportion[4:8], alternative=\"less\")"
   ]
  },
  {
   "cell_type": "code",
   "execution_count": 28,
   "metadata": {},
   "outputs": [
    {
     "data": {
      "text/plain": [
       "MannwhitneyuResult(statistic=11.0, pvalue=0.8285714285714285)"
      ]
     },
     "execution_count": 28,
     "metadata": {},
     "output_type": "execute_result"
    }
   ],
   "source": [
    "mannwhitneyu(mobile_web_proportion[0:4], mobile_web_proportion[4:8], alternative=\"less\")"
   ]
  },
  {
   "cell_type": "markdown",
   "metadata": {},
   "source": [
    "## **Where are the users?**"
   ]
  },
  {
   "cell_type": "code",
   "execution_count": 29,
   "metadata": {},
   "outputs": [
    {
     "data": {
      "text/html": [
       "<div>\n",
       "<style scoped>\n",
       "    .dataframe tbody tr th:only-of-type {\n",
       "        vertical-align: middle;\n",
       "    }\n",
       "\n",
       "    .dataframe tbody tr th {\n",
       "        vertical-align: top;\n",
       "    }\n",
       "\n",
       "    .dataframe thead th {\n",
       "        text-align: right;\n",
       "    }\n",
       "</style>\n",
       "<table border=\"1\" class=\"dataframe\">\n",
       "  <thead>\n",
       "    <tr style=\"text-align: right;\">\n",
       "      <th></th>\n",
       "      <th>Week</th>\n",
       "      <th>Mobile Indicator Name</th>\n",
       "      <th>Platform Type Name</th>\n",
       "      <th>Country Name</th>\n",
       "      <th>Booking Window Group</th>\n",
       "      <th>Property Country</th>\n",
       "      <th>Net Gross Booking Value USD</th>\n",
       "      <th>Net Orders</th>\n",
       "      <th>Year</th>\n",
       "    </tr>\n",
       "    <tr>\n",
       "      <th>Super Region</th>\n",
       "      <th></th>\n",
       "      <th></th>\n",
       "      <th></th>\n",
       "      <th></th>\n",
       "      <th></th>\n",
       "      <th></th>\n",
       "      <th></th>\n",
       "      <th></th>\n",
       "      <th></th>\n",
       "    </tr>\n",
       "  </thead>\n",
       "  <tbody>\n",
       "    <tr>\n",
       "      <th>APAC</th>\n",
       "      <td>21802</td>\n",
       "      <td>21802</td>\n",
       "      <td>21802</td>\n",
       "      <td>21802</td>\n",
       "      <td>21802</td>\n",
       "      <td>21802</td>\n",
       "      <td>21802</td>\n",
       "      <td>21802</td>\n",
       "      <td>21802</td>\n",
       "    </tr>\n",
       "    <tr>\n",
       "      <th>EMEA</th>\n",
       "      <td>21616</td>\n",
       "      <td>21616</td>\n",
       "      <td>21616</td>\n",
       "      <td>21616</td>\n",
       "      <td>21616</td>\n",
       "      <td>21616</td>\n",
       "      <td>21616</td>\n",
       "      <td>21616</td>\n",
       "      <td>21616</td>\n",
       "    </tr>\n",
       "    <tr>\n",
       "      <th>LATAM</th>\n",
       "      <td>5565</td>\n",
       "      <td>5565</td>\n",
       "      <td>5565</td>\n",
       "      <td>5565</td>\n",
       "      <td>5565</td>\n",
       "      <td>5565</td>\n",
       "      <td>5565</td>\n",
       "      <td>5565</td>\n",
       "      <td>5565</td>\n",
       "    </tr>\n",
       "  </tbody>\n",
       "</table>\n",
       "</div>"
      ],
      "text/plain": [
       "               Week  Mobile Indicator Name  Platform Type Name  Country Name  \\\n",
       "Super Region                                                                   \n",
       "APAC          21802                  21802               21802         21802   \n",
       "EMEA          21616                  21616               21616         21616   \n",
       "LATAM          5565                   5565                5565          5565   \n",
       "\n",
       "              Booking Window Group  Property Country  \\\n",
       "Super Region                                           \n",
       "APAC                         21802             21802   \n",
       "EMEA                         21616             21616   \n",
       "LATAM                         5565              5565   \n",
       "\n",
       "              Net Gross Booking Value USD  Net Orders   Year  \n",
       "Super Region                                                  \n",
       "APAC                                21802       21802  21802  \n",
       "EMEA                                21616       21616  21616  \n",
       "LATAM                                5565        5565   5565  "
      ]
     },
     "execution_count": 29,
     "metadata": {},
     "output_type": "execute_result"
    }
   ],
   "source": [
    "entire_data.groupby(by=[\"Super Region\"]).count()"
   ]
  },
  {
   "cell_type": "code",
   "execution_count": 30,
   "metadata": {},
   "outputs": [
    {
     "data": {
      "text/plain": [
       "False"
      ]
     },
     "execution_count": 30,
     "metadata": {},
     "output_type": "execute_result"
    }
   ],
   "source": [
    "entire_data.groupby(by=[\"Super Region\"]).count()[\"Week\"].sum() == len(entire_data)"
   ]
  },
  {
   "cell_type": "code",
   "execution_count": 31,
   "metadata": {},
   "outputs": [
    {
     "data": {
      "text/plain": [
       "-18217"
      ]
     },
     "execution_count": 31,
     "metadata": {},
     "output_type": "execute_result"
    }
   ],
   "source": [
    "entire_data.groupby(by=[\"Super Region\"]).count()[\"Week\"].sum() - len(entire_data)"
   ]
  },
  {
   "cell_type": "markdown",
   "metadata": {},
   "source": [
    "### **Data Quality Issue**\n",
    "\n",
    "18217 instances do not specify the \"Super Region\".\n",
    "\n",
    "Looking more closely at this shows that this is the case only for bookings made in the US and is true for all bookings made in the US.\n",
    "\n",
    "This is fixed by adding a specific super region for the US."
   ]
  },
  {
   "cell_type": "code",
   "execution_count": 32,
   "metadata": {},
   "outputs": [],
   "source": [
    "entire_data[\"Super Region\"] = entire_data[\"Super Region\"].fillna(\"US\")"
   ]
  },
  {
   "cell_type": "code",
   "execution_count": 33,
   "metadata": {},
   "outputs": [
    {
     "data": {
      "text/plain": [
       "True"
      ]
     },
     "execution_count": 33,
     "metadata": {},
     "output_type": "execute_result"
    }
   ],
   "source": [
    "entire_data.groupby(by=[\"Super Region\"]).count()[\"Week\"].sum() == len(entire_data)"
   ]
  },
  {
   "cell_type": "code",
   "execution_count": 34,
   "metadata": {},
   "outputs": [
    {
     "data": {
      "text/html": [
       "<div>\n",
       "<style scoped>\n",
       "    .dataframe tbody tr th:only-of-type {\n",
       "        vertical-align: middle;\n",
       "    }\n",
       "\n",
       "    .dataframe tbody tr th {\n",
       "        vertical-align: top;\n",
       "    }\n",
       "\n",
       "    .dataframe thead th {\n",
       "        text-align: right;\n",
       "    }\n",
       "</style>\n",
       "<table border=\"1\" class=\"dataframe\">\n",
       "  <thead>\n",
       "    <tr style=\"text-align: right;\">\n",
       "      <th></th>\n",
       "      <th>Week</th>\n",
       "      <th>Mobile Indicator Name</th>\n",
       "      <th>Platform Type Name</th>\n",
       "      <th>Country Name</th>\n",
       "      <th>Booking Window Group</th>\n",
       "      <th>Property Country</th>\n",
       "      <th>Net Gross Booking Value USD</th>\n",
       "      <th>Net Orders</th>\n",
       "      <th>Year</th>\n",
       "    </tr>\n",
       "    <tr>\n",
       "      <th>Super Region</th>\n",
       "      <th></th>\n",
       "      <th></th>\n",
       "      <th></th>\n",
       "      <th></th>\n",
       "      <th></th>\n",
       "      <th></th>\n",
       "      <th></th>\n",
       "      <th></th>\n",
       "      <th></th>\n",
       "    </tr>\n",
       "  </thead>\n",
       "  <tbody>\n",
       "    <tr>\n",
       "      <th>APAC</th>\n",
       "      <td>21802</td>\n",
       "      <td>21802</td>\n",
       "      <td>21802</td>\n",
       "      <td>21802</td>\n",
       "      <td>21802</td>\n",
       "      <td>21802</td>\n",
       "      <td>21802</td>\n",
       "      <td>21802</td>\n",
       "      <td>21802</td>\n",
       "    </tr>\n",
       "    <tr>\n",
       "      <th>EMEA</th>\n",
       "      <td>21616</td>\n",
       "      <td>21616</td>\n",
       "      <td>21616</td>\n",
       "      <td>21616</td>\n",
       "      <td>21616</td>\n",
       "      <td>21616</td>\n",
       "      <td>21616</td>\n",
       "      <td>21616</td>\n",
       "      <td>21616</td>\n",
       "    </tr>\n",
       "    <tr>\n",
       "      <th>LATAM</th>\n",
       "      <td>5565</td>\n",
       "      <td>5565</td>\n",
       "      <td>5565</td>\n",
       "      <td>5565</td>\n",
       "      <td>5565</td>\n",
       "      <td>5565</td>\n",
       "      <td>5565</td>\n",
       "      <td>5565</td>\n",
       "      <td>5565</td>\n",
       "    </tr>\n",
       "    <tr>\n",
       "      <th>US</th>\n",
       "      <td>18217</td>\n",
       "      <td>18217</td>\n",
       "      <td>18217</td>\n",
       "      <td>18217</td>\n",
       "      <td>18217</td>\n",
       "      <td>18217</td>\n",
       "      <td>18217</td>\n",
       "      <td>18217</td>\n",
       "      <td>18217</td>\n",
       "    </tr>\n",
       "  </tbody>\n",
       "</table>\n",
       "</div>"
      ],
      "text/plain": [
       "               Week  Mobile Indicator Name  Platform Type Name  Country Name  \\\n",
       "Super Region                                                                   \n",
       "APAC          21802                  21802               21802         21802   \n",
       "EMEA          21616                  21616               21616         21616   \n",
       "LATAM          5565                   5565                5565          5565   \n",
       "US            18217                  18217               18217         18217   \n",
       "\n",
       "              Booking Window Group  Property Country  \\\n",
       "Super Region                                           \n",
       "APAC                         21802             21802   \n",
       "EMEA                         21616             21616   \n",
       "LATAM                         5565              5565   \n",
       "US                           18217             18217   \n",
       "\n",
       "              Net Gross Booking Value USD  Net Orders   Year  \n",
       "Super Region                                                  \n",
       "APAC                                21802       21802  21802  \n",
       "EMEA                                21616       21616  21616  \n",
       "LATAM                                5565        5565   5565  \n",
       "US                                  18217       18217  18217  "
      ]
     },
     "execution_count": 34,
     "metadata": {},
     "output_type": "execute_result"
    }
   ],
   "source": [
    "entire_data.groupby(by=[\"Super Region\"]).count()"
   ]
  },
  {
   "cell_type": "code",
   "execution_count": 35,
   "metadata": {},
   "outputs": [],
   "source": [
    "desktop_data = entire_data[entire_data[\"Mobile Indicator Name\"] == \"Desktop\"]\n",
    "mobile_data = entire_data[entire_data[\"Mobile Indicator Name\"] == \"Mobile\"]\n",
    "mobile_web_data = mobile_data[mobile_data[\"Platform Type Name\"] == \"Mobile Web\"]\n",
    "mobile_app_data = mobile_data[mobile_data[\"Platform Type Name\"] == \"Mobile App\"]"
   ]
  },
  {
   "cell_type": "markdown",
   "metadata": {},
   "source": [
    "Will only present 2017 data for the following..."
   ]
  },
  {
   "cell_type": "code",
   "execution_count": 131,
   "metadata": {},
   "outputs": [],
   "source": [
    "entire_data_2017 = entire_data[entire_data[\"Year\"]==2017]\n",
    "entire_data_2016 = entire_data[entire_data[\"Year\"]==2016]"
   ]
  },
  {
   "cell_type": "code",
   "execution_count": 37,
   "metadata": {},
   "outputs": [],
   "source": [
    "desktop_data_2017 = entire_data_2017[entire_data_2017[\"Mobile Indicator Name\"] == \"Desktop\"]\n",
    "mobile_data_2017 = entire_data_2017[entire_data_2017[\"Mobile Indicator Name\"] == \"Mobile\"]\n",
    "mobile_web_data_2017 = mobile_data_2017[mobile_data_2017[\"Platform Type Name\"] == \"Mobile Web\"]\n",
    "mobile_app_data_2017 = mobile_data_2017[mobile_data_2017[\"Platform Type Name\"] == \"Mobile App\"]"
   ]
  },
  {
   "cell_type": "code",
   "execution_count": 132,
   "metadata": {},
   "outputs": [],
   "source": [
    "desktop_data_2016 = entire_data_2016[entire_data_2016[\"Mobile Indicator Name\"] == \"Desktop\"]\n",
    "mobile_data_2016 = entire_data_2016[entire_data_2016[\"Mobile Indicator Name\"] == \"Mobile\"]\n",
    "mobile_web_data_2016 = mobile_data_2016[mobile_data_2016[\"Platform Type Name\"] == \"Mobile Web\"]\n",
    "mobile_app_data_2016 = mobile_data_2016[mobile_data_2016[\"Platform Type Name\"] == \"Mobile App\"]"
   ]
  },
  {
   "cell_type": "code",
   "execution_count": 133,
   "metadata": {},
   "outputs": [
    {
     "data": {
      "text/plain": [
       "0.07917907548879968"
      ]
     },
     "execution_count": 133,
     "metadata": {},
     "output_type": "execute_result"
    }
   ],
   "source": [
    "(len(desktop_data_2017)-len(desktop_data_2016))/len(desktop_data_2016)"
   ]
  },
  {
   "cell_type": "code",
   "execution_count": 134,
   "metadata": {},
   "outputs": [
    {
     "data": {
      "text/plain": [
       "0.26092279932981055"
      ]
     },
     "execution_count": 134,
     "metadata": {},
     "output_type": "execute_result"
    }
   ],
   "source": [
    "(len(mobile_data_2017)-len(mobile_data_2016))/len(mobile_data_2016)"
   ]
  },
  {
   "cell_type": "code",
   "execution_count": 135,
   "metadata": {},
   "outputs": [
    {
     "data": {
      "text/plain": [
       "0.17026224002066917"
      ]
     },
     "execution_count": 135,
     "metadata": {},
     "output_type": "execute_result"
    }
   ],
   "source": [
    "(len(entire_data_2017)-len(entire_data_2016))/len(entire_data_2016)"
   ]
  },
  {
   "cell_type": "code",
   "execution_count": 39,
   "metadata": {},
   "outputs": [
    {
     "data": {
      "text/plain": [
       "Super Region\n",
       "APAC     5248\n",
       "EMEA     5553\n",
       "LATAM    1604\n",
       "US       4264\n",
       "Name: Week, dtype: int64"
      ]
     },
     "execution_count": 39,
     "metadata": {},
     "output_type": "execute_result"
    }
   ],
   "source": [
    "desktop_data_2017.groupby(by=[\"Super Region\"]).count()[\"Week\"]"
   ]
  },
  {
   "cell_type": "code",
   "execution_count": 40,
   "metadata": {},
   "outputs": [
    {
     "data": {
      "image/png": "[encoded data removed]",
      "text/plain": [
       "<Figure size 432x288 with 1 Axes>"
      ]
     },
     "metadata": {},
     "output_type": "display_data"
    }
   ],
   "source": [
    "labels = ['APAC', 'EMEA', 'LATAM', 'US']\n",
    "sizes = desktop_data_2017.groupby(by=[\"Super Region\"]).count()[\"Week\"]\n",
    "colors = ['#0000FD','#FF5741','#8AB4FF','#58DFB8']\n",
    "plt.pie(sizes, colors = colors, labels=labels, autopct='%1.1f%%', pctdistance=0.5,startangle=90)\n",
    "\n",
    "centre_circle = plt.Circle((0,0),0.70,fc='white')\n",
    "fig = plt.gcf()\n",
    "fig.gca().add_artist(centre_circle)\n",
    "\n",
    "plt.axis('equal')  \n",
    "plt.tight_layout()\n",
    "plt.show()"
   ]
  },
  {
   "cell_type": "code",
   "execution_count": 41,
   "metadata": {},
   "outputs": [
    {
     "data": {
      "image/png": "[encoded data removed]",
      "text/plain": [
       "<Figure size 432x288 with 1 Axes>"
      ]
     },
     "metadata": {},
     "output_type": "display_data"
    }
   ],
   "source": [
    "labels = ['APAC', 'EMEA', 'LATAM', 'US']\n",
    "sizes = mobile_app_data_2017.groupby(by=[\"Super Region\"]).count()[\"Week\"]\n",
    "colors = ['#0000FD','#FF5741','#8AB4FF','#58DFB8']\n",
    "plt.pie(sizes, colors = colors, labels=labels, autopct='%1.1f%%', pctdistance=0.5, startangle=90)\n",
    "\n",
    "centre_circle = plt.Circle((0,0),0.70,fc='white')\n",
    "fig = plt.gcf()\n",
    "fig.gca().add_artist(centre_circle)\n",
    "\n",
    "plt.axis('equal')  \n",
    "plt.tight_layout()\n",
    "plt.show()"
   ]
  },
  {
   "cell_type": "code",
   "execution_count": 42,
   "metadata": {},
   "outputs": [
    {
     "data": {
      "image/png": "[encoded data removed]",
      "text/plain": [
       "<Figure size 432x288 with 1 Axes>"
      ]
     },
     "metadata": {},
     "output_type": "display_data"
    }
   ],
   "source": [
    "labels = ['APAC', 'EMEA', 'LATAM', 'US']\n",
    "sizes = mobile_web_data_2017.groupby(by=[\"Super Region\"]).count()[\"Week\"]\n",
    "colors = ['#0000FD','#FF5741','#8AB4FF','#58DFB8']\n",
    "plt.pie(sizes, colors = colors, labels=labels, autopct='%1.1f%%', pctdistance=0.5,startangle=90)\n",
    "\n",
    "centre_circle = plt.Circle((0,0),0.70,fc='white')\n",
    "fig = plt.gcf()\n",
    "fig.gca().add_artist(centre_circle)\n",
    "\n",
    "plt.axis('equal')  \n",
    "plt.tight_layout()\n",
    "plt.show()"
   ]
  },
  {
   "cell_type": "code",
   "execution_count": 43,
   "metadata": {},
   "outputs": [],
   "source": [
    "entire_data_2017_apac = entire_data_2017[entire_data_2017[\"Super Region\"]==\"APAC\"]\n",
    "entire_data_2017_emea = entire_data_2017[entire_data_2017[\"Super Region\"]==\"EMEA\"]\n",
    "entire_data_2017_latam = entire_data_2017[entire_data_2017[\"Super Region\"]==\"LATAM\"]\n",
    "entire_data_2017_us = entire_data_2017[entire_data_2017[\"Super Region\"]==\"US\"]"
   ]
  },
  {
   "cell_type": "code",
   "execution_count": null,
   "metadata": {},
   "outputs": [],
   "source": []
  },
  {
   "cell_type": "code",
   "execution_count": 44,
   "metadata": {},
   "outputs": [
    {
     "data": {
      "text/plain": [
       "Platform Type Name\n",
       "Desktop       5248\n",
       "Mobile App    3597\n",
       "Mobile Web    2952\n",
       "Name: Week, dtype: int64"
      ]
     },
     "execution_count": 44,
     "metadata": {},
     "output_type": "execute_result"
    }
   ],
   "source": [
    "entire_data_2017_apac.groupby(by=[\"Platform Type Name\"]).count()[\"Week\"]"
   ]
  },
  {
   "cell_type": "code",
   "execution_count": 45,
   "metadata": {},
   "outputs": [
    {
     "data": {
      "image/png": "[encoded data removed]",
      "text/plain": [
       "<Figure size 432x288 with 1 Axes>"
      ]
     },
     "metadata": {},
     "output_type": "display_data"
    }
   ],
   "source": [
    "labels = ['Desktop', 'Mobile App', 'Mobile Web']\n",
    "sizes = entire_data_2017_apac.groupby(by=[\"Platform Type Name\"]).count()[\"Week\"]\n",
    "colors = ['#FF5741','#0000FD','#58DFB8']\n",
    "plt.pie(sizes, colors = colors, labels=labels, autopct='%1.1f%%', pctdistance=0.5,startangle=90)\n",
    "plt.title(\"APAC\")\n",
    "\n",
    "centre_circle = plt.Circle((0,0),0.70,fc='white')\n",
    "fig = plt.gcf()\n",
    "fig.gca().add_artist(centre_circle)\n",
    "\n",
    "plt.axis('equal')  \n",
    "plt.tight_layout()\n",
    "plt.show()\n",
    "# plt.title(\"APAc\")"
   ]
  },
  {
   "cell_type": "code",
   "execution_count": 46,
   "metadata": {},
   "outputs": [
    {
     "data": {
      "image/png": "[encoded data removed]",
      "text/plain": [
       "<Figure size 432x288 with 1 Axes>"
      ]
     },
     "metadata": {},
     "output_type": "display_data"
    }
   ],
   "source": [
    "labels = ['Desktop', 'Mobile App', 'Mobile Web']\n",
    "sizes = entire_data_2017_emea.groupby(by=[\"Platform Type Name\"]).count()[\"Week\"]\n",
    "colors = ['#FF5741','#0000FD','#58DFB8']\n",
    "plt.pie(sizes, colors = colors, labels=labels, autopct='%1.1f%%', pctdistance=0.5,startangle=90)\n",
    "plt.title(\"EMEA\")\n",
    "\n",
    "centre_circle = plt.Circle((0,0),0.70,fc='white')\n",
    "fig = plt.gcf()\n",
    "fig.gca().add_artist(centre_circle)\n",
    "\n",
    "plt.axis('equal')  \n",
    "plt.tight_layout()\n",
    "plt.show()"
   ]
  },
  {
   "cell_type": "code",
   "execution_count": 47,
   "metadata": {},
   "outputs": [
    {
     "data": {
      "image/png": "[encoded data removed]",
      "text/plain": [
       "<Figure size 432x288 with 1 Axes>"
      ]
     },
     "metadata": {},
     "output_type": "display_data"
    }
   ],
   "source": [
    "labels = ['Desktop', 'Mobile App', 'Mobile Web']\n",
    "sizes = entire_data_2017_latam.groupby(by=[\"Platform Type Name\"]).count()[\"Week\"]\n",
    "colors = ['#FF5741','#0000FD','#58DFB8']\n",
    "plt.pie(sizes, colors = colors, labels=labels, autopct='%1.1f%%', pctdistance=0.5,startangle=90)\n",
    "plt.title(\"LATAM\")\n",
    "\n",
    "centre_circle = plt.Circle((0,0),0.70,fc='white')\n",
    "fig = plt.gcf()\n",
    "fig.gca().add_artist(centre_circle)\n",
    "\n",
    "plt.axis('equal')  \n",
    "plt.tight_layout()\n",
    "plt.show()"
   ]
  },
  {
   "cell_type": "code",
   "execution_count": 48,
   "metadata": {},
   "outputs": [
    {
     "data": {
      "image/png": "[encoded data removed]",
      "text/plain": [
       "<Figure size 432x288 with 1 Axes>"
      ]
     },
     "metadata": {},
     "output_type": "display_data"
    }
   ],
   "source": [
    "labels = ['Desktop', 'Mobile App', 'Mobile Web']\n",
    "sizes = entire_data_2017_us.groupby(by=[\"Platform Type Name\"]).count()[\"Week\"]\n",
    "colors = ['#FF5741','#0000FD','#58DFB8']\n",
    "plt.pie(sizes, colors = colors, labels=labels, autopct='%1.1f%%', pctdistance=0.5,startangle=90)\n",
    "plt.title(\"US\")\n",
    "\n",
    "centre_circle = plt.Circle((0,0),0.70,fc='white')\n",
    "fig = plt.gcf()\n",
    "fig.gca().add_artist(centre_circle)\n",
    "\n",
    "plt.axis('equal')  \n",
    "plt.tight_layout()\n",
    "plt.show()"
   ]
  },
  {
   "cell_type": "markdown",
   "metadata": {},
   "source": [
    "## **Any particular countries using particular platforms?**"
   ]
  },
  {
   "cell_type": "code",
   "execution_count": 49,
   "metadata": {},
   "outputs": [
    {
     "data": {
      "text/html": [
       "<div>\n",
       "<style scoped>\n",
       "    .dataframe tbody tr th:only-of-type {\n",
       "        vertical-align: middle;\n",
       "    }\n",
       "\n",
       "    .dataframe tbody tr th {\n",
       "        vertical-align: top;\n",
       "    }\n",
       "\n",
       "    .dataframe thead th {\n",
       "        text-align: right;\n",
       "    }\n",
       "</style>\n",
       "<table border=\"1\" class=\"dataframe\">\n",
       "  <thead>\n",
       "    <tr style=\"text-align: right;\">\n",
       "      <th></th>\n",
       "      <th>Week</th>\n",
       "      <th>Mobile Indicator Name</th>\n",
       "      <th>Platform Type Name</th>\n",
       "      <th>Super Region</th>\n",
       "      <th>Booking Window Group</th>\n",
       "      <th>Property Country</th>\n",
       "      <th>Net Gross Booking Value USD</th>\n",
       "      <th>Net Orders</th>\n",
       "      <th>Year</th>\n",
       "    </tr>\n",
       "    <tr>\n",
       "      <th>Country Name</th>\n",
       "      <th></th>\n",
       "      <th></th>\n",
       "      <th></th>\n",
       "      <th></th>\n",
       "      <th></th>\n",
       "      <th></th>\n",
       "      <th></th>\n",
       "      <th></th>\n",
       "      <th></th>\n",
       "    </tr>\n",
       "  </thead>\n",
       "  <tbody>\n",
       "    <tr>\n",
       "      <th>Australia</th>\n",
       "      <td>6735</td>\n",
       "      <td>6735</td>\n",
       "      <td>6735</td>\n",
       "      <td>6735</td>\n",
       "      <td>6735</td>\n",
       "      <td>6735</td>\n",
       "      <td>6735</td>\n",
       "      <td>6735</td>\n",
       "      <td>6735</td>\n",
       "    </tr>\n",
       "    <tr>\n",
       "      <th>Brazil</th>\n",
       "      <td>5565</td>\n",
       "      <td>5565</td>\n",
       "      <td>5565</td>\n",
       "      <td>5565</td>\n",
       "      <td>5565</td>\n",
       "      <td>5565</td>\n",
       "      <td>5565</td>\n",
       "      <td>5565</td>\n",
       "      <td>5565</td>\n",
       "    </tr>\n",
       "    <tr>\n",
       "      <th>Hong Kong</th>\n",
       "      <td>6029</td>\n",
       "      <td>6029</td>\n",
       "      <td>6029</td>\n",
       "      <td>6029</td>\n",
       "      <td>6029</td>\n",
       "      <td>6029</td>\n",
       "      <td>6029</td>\n",
       "      <td>6029</td>\n",
       "      <td>6029</td>\n",
       "    </tr>\n",
       "    <tr>\n",
       "      <th>Norway</th>\n",
       "      <td>7986</td>\n",
       "      <td>7986</td>\n",
       "      <td>7986</td>\n",
       "      <td>7986</td>\n",
       "      <td>7986</td>\n",
       "      <td>7986</td>\n",
       "      <td>7986</td>\n",
       "      <td>7986</td>\n",
       "      <td>7986</td>\n",
       "    </tr>\n",
       "    <tr>\n",
       "      <th>South Korea</th>\n",
       "      <td>9038</td>\n",
       "      <td>9038</td>\n",
       "      <td>9038</td>\n",
       "      <td>9038</td>\n",
       "      <td>9038</td>\n",
       "      <td>9038</td>\n",
       "      <td>9038</td>\n",
       "      <td>9038</td>\n",
       "      <td>9038</td>\n",
       "    </tr>\n",
       "    <tr>\n",
       "      <th>US</th>\n",
       "      <td>18217</td>\n",
       "      <td>18217</td>\n",
       "      <td>18217</td>\n",
       "      <td>18217</td>\n",
       "      <td>18217</td>\n",
       "      <td>18217</td>\n",
       "      <td>18217</td>\n",
       "      <td>18217</td>\n",
       "      <td>18217</td>\n",
       "    </tr>\n",
       "    <tr>\n",
       "      <th>United Kingdom</th>\n",
       "      <td>13630</td>\n",
       "      <td>13630</td>\n",
       "      <td>13630</td>\n",
       "      <td>13630</td>\n",
       "      <td>13630</td>\n",
       "      <td>13630</td>\n",
       "      <td>13630</td>\n",
       "      <td>13630</td>\n",
       "      <td>13630</td>\n",
       "    </tr>\n",
       "  </tbody>\n",
       "</table>\n",
       "</div>"
      ],
      "text/plain": [
       "                 Week  Mobile Indicator Name  Platform Type Name  \\\n",
       "Country Name                                                       \n",
       "Australia        6735                   6735                6735   \n",
       "Brazil           5565                   5565                5565   \n",
       "Hong Kong        6029                   6029                6029   \n",
       "Norway           7986                   7986                7986   \n",
       "South Korea      9038                   9038                9038   \n",
       "US              18217                  18217               18217   \n",
       "United Kingdom  13630                  13630               13630   \n",
       "\n",
       "                Super Region  Booking Window Group  Property Country  \\\n",
       "Country Name                                                           \n",
       "Australia               6735                  6735              6735   \n",
       "Brazil                  5565                  5565              5565   \n",
       "Hong Kong               6029                  6029              6029   \n",
       "Norway                  7986                  7986              7986   \n",
       "South Korea             9038                  9038              9038   \n",
       "US                     18217                 18217             18217   \n",
       "United Kingdom         13630                 13630             13630   \n",
       "\n",
       "                Net Gross Booking Value USD  Net Orders   Year  \n",
       "Country Name                                                    \n",
       "Australia                              6735        6735   6735  \n",
       "Brazil                                 5565        5565   5565  \n",
       "Hong Kong                              6029        6029   6029  \n",
       "Norway                                 7986        7986   7986  \n",
       "South Korea                            9038        9038   9038  \n",
       "US                                    18217       18217  18217  \n",
       "United Kingdom                        13630       13630  13630  "
      ]
     },
     "execution_count": 49,
     "metadata": {},
     "output_type": "execute_result"
    }
   ],
   "source": [
    "entire_data.groupby(by=[\"Country Name\"]).count()"
   ]
  },
  {
   "cell_type": "code",
   "execution_count": 50,
   "metadata": {},
   "outputs": [],
   "source": [
    "entire_data_2017_australia = entire_data_2017[entire_data_2017[\"Country Name\"]==\"Australia\"]\n",
    "entire_data_2017_brazil = entire_data_2017[entire_data_2017[\"Country Name\"]==\"Brazil\"]\n",
    "entire_data_2017_hk = entire_data_2017[entire_data_2017[\"Country Name\"]==\"Hong Kong\"]\n",
    "entire_data_2017_norway = entire_data_2017[entire_data_2017[\"Country Name\"]==\"Norway\"]\n",
    "entire_data_2017_sk = entire_data_2017[entire_data_2017[\"Country Name\"]==\"South Korea\"]\n",
    "entire_data_2017_uk = entire_data_2017[entire_data_2017[\"Country Name\"]==\"United Kingdom\"]"
   ]
  },
  {
   "cell_type": "code",
   "execution_count": 51,
   "metadata": {},
   "outputs": [
    {
     "data": {
      "image/png": "[encoded data removed]",
      "text/plain": [
       "<Figure size 432x288 with 1 Axes>"
      ]
     },
     "metadata": {},
     "output_type": "display_data"
    }
   ],
   "source": [
    "labels = ['Desktop', 'Mobile App', 'Mobile Web']\n",
    "sizes = entire_data_2017_us.groupby(by=[\"Platform Type Name\"]).count()[\"Week\"]\n",
    "colors = ['#FF5741','#0000FD','#58DFB8']\n",
    "plt.pie(sizes, colors = colors, labels=labels, autopct='%1.1f%%', pctdistance=0.5,startangle=90)\n",
    "plt.title(\"US\")\n",
    "\n",
    "centre_circle = plt.Circle((0,0),0.70,fc='white')\n",
    "fig = plt.gcf()\n",
    "fig.gca().add_artist(centre_circle)\n",
    "\n",
    "plt.axis('equal')  \n",
    "plt.tight_layout()\n",
    "plt.show()"
   ]
  },
  {
   "cell_type": "code",
   "execution_count": 52,
   "metadata": {},
   "outputs": [
    {
     "data": {
      "image/png": "[encoded data removed]",
      "text/plain": [
       "<Figure size 432x288 with 1 Axes>"
      ]
     },
     "metadata": {},
     "output_type": "display_data"
    }
   ],
   "source": [
    "labels = ['Desktop', 'Mobile App', 'Mobile Web']\n",
    "sizes = entire_data_2017_australia.groupby(by=[\"Platform Type Name\"]).count()[\"Week\"]\n",
    "colors = ['#FF5741','#0000FD','#58DFB8']\n",
    "plt.pie(sizes, colors = colors, labels=labels, autopct='%1.1f%%', pctdistance=0.5,startangle=90)\n",
    "plt.title(\"Australia\")\n",
    "\n",
    "centre_circle = plt.Circle((0,0),0.70,fc='white')\n",
    "fig = plt.gcf()\n",
    "fig.gca().add_artist(centre_circle)\n",
    "\n",
    "plt.axis('equal')  \n",
    "plt.tight_layout()\n",
    "plt.show()"
   ]
  },
  {
   "cell_type": "code",
   "execution_count": 53,
   "metadata": {},
   "outputs": [
    {
     "data": {
      "image/png": "[encoded data removed]",
      "text/plain": [
       "<Figure size 432x288 with 1 Axes>"
      ]
     },
     "metadata": {},
     "output_type": "display_data"
    }
   ],
   "source": [
    "labels = ['Desktop', 'Mobile App', 'Mobile Web']\n",
    "sizes = entire_data_2017_hk.groupby(by=[\"Platform Type Name\"]).count()[\"Week\"]\n",
    "colors = ['#FF5741','#0000FD','#58DFB8']\n",
    "plt.pie(sizes, colors = colors, labels=labels, autopct='%1.1f%%', pctdistance=0.5,startangle=90)\n",
    "plt.title(\"Hong Kong\")\n",
    "\n",
    "centre_circle = plt.Circle((0,0),0.70,fc='white')\n",
    "fig = plt.gcf()\n",
    "fig.gca().add_artist(centre_circle)\n",
    "\n",
    "plt.axis('equal')  \n",
    "plt.tight_layout()\n",
    "plt.show()"
   ]
  },
  {
   "cell_type": "code",
   "execution_count": 54,
   "metadata": {},
   "outputs": [
    {
     "data": {
      "image/png": "[encoded data removed]",
      "text/plain": [
       "<Figure size 432x288 with 1 Axes>"
      ]
     },
     "metadata": {},
     "output_type": "display_data"
    }
   ],
   "source": [
    "labels = ['Desktop', 'Mobile App', 'Mobile Web']\n",
    "sizes = entire_data_2017_brazil.groupby(by=[\"Platform Type Name\"]).count()[\"Week\"]\n",
    "colors = ['#FF5741','#0000FD','#58DFB8']\n",
    "explode = (0.1, 0, 0)  \n",
    "plt.pie(sizes, colors = colors, labels=labels, autopct='%1.1f%%', pctdistance=0.5,startangle=90)\n",
    "plt.title(\"Brazil\")\n",
    "\n",
    "centre_circle = plt.Circle((0,0),0.70,fc='white')\n",
    "fig = plt.gcf()\n",
    "fig.gca().add_artist(centre_circle)\n",
    "\n",
    "plt.axis('equal')  \n",
    "plt.tight_layout()\n",
    "plt.show()"
   ]
  },
  {
   "cell_type": "code",
   "execution_count": 55,
   "metadata": {},
   "outputs": [
    {
     "data": {
      "image/png": "[encoded data removed]",
      "text/plain": [
       "<Figure size 432x288 with 1 Axes>"
      ]
     },
     "metadata": {},
     "output_type": "display_data"
    }
   ],
   "source": [
    "labels = ['Desktop', 'Mobile App', 'Mobile Web']\n",
    "sizes = entire_data_2017_norway.groupby(by=[\"Platform Type Name\"]).count()[\"Week\"]\n",
    "colors = ['#FF5741','#0000FD','#58DFB8']\n",
    "plt.pie(sizes, colors = colors, labels=labels, autopct='%1.1f%%', pctdistance=0.5,startangle=90)\n",
    "plt.title(\"Norway\")\n",
    "\n",
    "centre_circle = plt.Circle((0,0),0.70,fc='white')\n",
    "fig = plt.gcf()\n",
    "fig.gca().add_artist(centre_circle)\n",
    "\n",
    "plt.axis('equal')  \n",
    "plt.tight_layout()\n",
    "plt.show()"
   ]
  },
  {
   "cell_type": "code",
   "execution_count": 56,
   "metadata": {},
   "outputs": [
    {
     "data": {
      "image/png": "[encoded data removed]",
      "text/plain": [
       "<Figure size 432x288 with 1 Axes>"
      ]
     },
     "metadata": {},
     "output_type": "display_data"
    }
   ],
   "source": [
    "labels = ['Desktop', 'Mobile App', 'Mobile Web']\n",
    "sizes = entire_data_2017_sk.groupby(by=[\"Platform Type Name\"]).count()[\"Week\"]\n",
    "colors = ['#FF5741','#0000FD','#58DFB8']\n",
    "plt.pie(sizes, colors = colors, labels=labels, autopct='%1.1f%%', pctdistance=0.5,startangle=90)\n",
    "plt.title(\"South Korea\")\n",
    "\n",
    "centre_circle = plt.Circle((0,0),0.70,fc='white')\n",
    "fig = plt.gcf()\n",
    "fig.gca().add_artist(centre_circle)\n",
    "\n",
    "plt.axis('equal')  \n",
    "plt.tight_layout()\n",
    "plt.show()"
   ]
  },
  {
   "cell_type": "code",
   "execution_count": 57,
   "metadata": {},
   "outputs": [
    {
     "data": {
      "image/png": "[encoded data removed]",
      "text/plain": [
       "<Figure size 432x288 with 1 Axes>"
      ]
     },
     "metadata": {},
     "output_type": "display_data"
    }
   ],
   "source": [
    "labels = ['Desktop', 'Mobile App', 'Mobile Web']\n",
    "sizes = entire_data_2017_uk.groupby(by=[\"Platform Type Name\"]).count()[\"Week\"]\n",
    "colors = ['#FF5741','#0000FD','#58DFB8']\n",
    "plt.pie(sizes, colors = colors, labels=labels, autopct='%1.1f%%', pctdistance=0.5,startangle=90)\n",
    "plt.title(\"United Kingdom\")\n",
    "\n",
    "centre_circle = plt.Circle((0,0),0.70,fc='white')\n",
    "fig = plt.gcf()\n",
    "fig.gca().add_artist(centre_circle)\n",
    "\n",
    "plt.axis('equal')  \n",
    "plt.tight_layout()\n",
    "plt.show()"
   ]
  },
  {
   "cell_type": "markdown",
   "metadata": {},
   "source": [
    "## **Significant difference in booking windows? (will use both 2016 and 2017)**"
   ]
  },
  {
   "cell_type": "code",
   "execution_count": 58,
   "metadata": {},
   "outputs": [
    {
     "data": {
      "text/plain": [
       "True"
      ]
     },
     "execution_count": 58,
     "metadata": {},
     "output_type": "execute_result"
    }
   ],
   "source": [
    "# checking for na \"Booking Window Group\" values\n",
    "entire_data.groupby(by=[\"Booking Window Group\"]).count()[\"Week\"].sum() == len(entire_data)"
   ]
  },
  {
   "cell_type": "code",
   "execution_count": 59,
   "metadata": {},
   "outputs": [
    {
     "data": {
      "text/plain": [
       "True"
      ]
     },
     "execution_count": 59,
     "metadata": {},
     "output_type": "execute_result"
    }
   ],
   "source": [
    "len(desktop_data) + len(mobile_data) == len(entire_data)"
   ]
  },
  {
   "cell_type": "code",
   "execution_count": 60,
   "metadata": {},
   "outputs": [],
   "source": [
    "# ignoring \"post book\"\n",
    "booking_window_labels = [\"0-1 days\", \"2-3 days\", \"4-7 days\", \"8-14 days\", \"15-30 days\", \"31-45 days\", \"46-60 days\", \"61-90 days\", \"+90 days\"]"
   ]
  },
  {
   "cell_type": "code",
   "execution_count": 63,
   "metadata": {},
   "outputs": [
    {
     "data": {
      "text/html": [
       "<div>\n",
       "<style scoped>\n",
       "    .dataframe tbody tr th:only-of-type {\n",
       "        vertical-align: middle;\n",
       "    }\n",
       "\n",
       "    .dataframe tbody tr th {\n",
       "        vertical-align: top;\n",
       "    }\n",
       "\n",
       "    .dataframe thead th {\n",
       "        text-align: right;\n",
       "    }\n",
       "</style>\n",
       "<table border=\"1\" class=\"dataframe\">\n",
       "  <thead>\n",
       "    <tr style=\"text-align: right;\">\n",
       "      <th></th>\n",
       "      <th>Week</th>\n",
       "      <th>Mobile Indicator Name</th>\n",
       "      <th>Platform Type Name</th>\n",
       "      <th>Super Region</th>\n",
       "      <th>Country Name</th>\n",
       "      <th>Property Country</th>\n",
       "      <th>Net Gross Booking Value USD</th>\n",
       "      <th>Net Orders</th>\n",
       "      <th>Year</th>\n",
       "    </tr>\n",
       "    <tr>\n",
       "      <th>Booking Window Group</th>\n",
       "      <th></th>\n",
       "      <th></th>\n",
       "      <th></th>\n",
       "      <th></th>\n",
       "      <th></th>\n",
       "      <th></th>\n",
       "      <th></th>\n",
       "      <th></th>\n",
       "      <th></th>\n",
       "    </tr>\n",
       "  </thead>\n",
       "  <tbody>\n",
       "    <tr>\n",
       "      <th>+90 days</th>\n",
       "      <td>3511</td>\n",
       "      <td>3511</td>\n",
       "      <td>3511</td>\n",
       "      <td>3511</td>\n",
       "      <td>3511</td>\n",
       "      <td>3511</td>\n",
       "      <td>3511</td>\n",
       "      <td>3511</td>\n",
       "      <td>3511</td>\n",
       "    </tr>\n",
       "    <tr>\n",
       "      <th>0-1 days</th>\n",
       "      <td>3446</td>\n",
       "      <td>3446</td>\n",
       "      <td>3446</td>\n",
       "      <td>3446</td>\n",
       "      <td>3446</td>\n",
       "      <td>3446</td>\n",
       "      <td>3446</td>\n",
       "      <td>3446</td>\n",
       "      <td>3446</td>\n",
       "    </tr>\n",
       "    <tr>\n",
       "      <th>15-30 days</th>\n",
       "      <td>4098</td>\n",
       "      <td>4098</td>\n",
       "      <td>4098</td>\n",
       "      <td>4098</td>\n",
       "      <td>4098</td>\n",
       "      <td>4098</td>\n",
       "      <td>4098</td>\n",
       "      <td>4098</td>\n",
       "      <td>4098</td>\n",
       "    </tr>\n",
       "    <tr>\n",
       "      <th>2-3 days</th>\n",
       "      <td>3458</td>\n",
       "      <td>3458</td>\n",
       "      <td>3458</td>\n",
       "      <td>3458</td>\n",
       "      <td>3458</td>\n",
       "      <td>3458</td>\n",
       "      <td>3458</td>\n",
       "      <td>3458</td>\n",
       "      <td>3458</td>\n",
       "    </tr>\n",
       "    <tr>\n",
       "      <th>31-45 days</th>\n",
       "      <td>3649</td>\n",
       "      <td>3649</td>\n",
       "      <td>3649</td>\n",
       "      <td>3649</td>\n",
       "      <td>3649</td>\n",
       "      <td>3649</td>\n",
       "      <td>3649</td>\n",
       "      <td>3649</td>\n",
       "      <td>3649</td>\n",
       "    </tr>\n",
       "    <tr>\n",
       "      <th>4-7 days</th>\n",
       "      <td>3773</td>\n",
       "      <td>3773</td>\n",
       "      <td>3773</td>\n",
       "      <td>3773</td>\n",
       "      <td>3773</td>\n",
       "      <td>3773</td>\n",
       "      <td>3773</td>\n",
       "      <td>3773</td>\n",
       "      <td>3773</td>\n",
       "    </tr>\n",
       "    <tr>\n",
       "      <th>46-60 days</th>\n",
       "      <td>3197</td>\n",
       "      <td>3197</td>\n",
       "      <td>3197</td>\n",
       "      <td>3197</td>\n",
       "      <td>3197</td>\n",
       "      <td>3197</td>\n",
       "      <td>3197</td>\n",
       "      <td>3197</td>\n",
       "      <td>3197</td>\n",
       "    </tr>\n",
       "    <tr>\n",
       "      <th>61-90 days</th>\n",
       "      <td>3058</td>\n",
       "      <td>3058</td>\n",
       "      <td>3058</td>\n",
       "      <td>3058</td>\n",
       "      <td>3058</td>\n",
       "      <td>3058</td>\n",
       "      <td>3058</td>\n",
       "      <td>3058</td>\n",
       "      <td>3058</td>\n",
       "    </tr>\n",
       "    <tr>\n",
       "      <th>8-14 days</th>\n",
       "      <td>3910</td>\n",
       "      <td>3910</td>\n",
       "      <td>3910</td>\n",
       "      <td>3910</td>\n",
       "      <td>3910</td>\n",
       "      <td>3910</td>\n",
       "      <td>3910</td>\n",
       "      <td>3910</td>\n",
       "      <td>3910</td>\n",
       "    </tr>\n",
       "    <tr>\n",
       "      <th>Post Book</th>\n",
       "      <td>15</td>\n",
       "      <td>15</td>\n",
       "      <td>15</td>\n",
       "      <td>15</td>\n",
       "      <td>15</td>\n",
       "      <td>15</td>\n",
       "      <td>15</td>\n",
       "      <td>15</td>\n",
       "      <td>15</td>\n",
       "    </tr>\n",
       "  </tbody>\n",
       "</table>\n",
       "</div>"
      ],
      "text/plain": [
       "                      Week  Mobile Indicator Name  Platform Type Name  \\\n",
       "Booking Window Group                                                    \n",
       "+90 days              3511                   3511                3511   \n",
       "0-1 days              3446                   3446                3446   \n",
       "15-30 days            4098                   4098                4098   \n",
       "2-3 days              3458                   3458                3458   \n",
       "31-45 days            3649                   3649                3649   \n",
       "4-7 days              3773                   3773                3773   \n",
       "46-60 days            3197                   3197                3197   \n",
       "61-90 days            3058                   3058                3058   \n",
       "8-14 days             3910                   3910                3910   \n",
       "Post Book               15                     15                  15   \n",
       "\n",
       "                      Super Region  Country Name  Property Country  \\\n",
       "Booking Window Group                                                 \n",
       "+90 days                      3511          3511              3511   \n",
       "0-1 days                      3446          3446              3446   \n",
       "15-30 days                    4098          4098              4098   \n",
       "2-3 days                      3458          3458              3458   \n",
       "31-45 days                    3649          3649              3649   \n",
       "4-7 days                      3773          3773              3773   \n",
       "46-60 days                    3197          3197              3197   \n",
       "61-90 days                    3058          3058              3058   \n",
       "8-14 days                     3910          3910              3910   \n",
       "Post Book                       15            15                15   \n",
       "\n",
       "                      Net Gross Booking Value USD  Net Orders  Year  \n",
       "Booking Window Group                                                 \n",
       "+90 days                                     3511        3511  3511  \n",
       "0-1 days                                     3446        3446  3446  \n",
       "15-30 days                                   4098        4098  4098  \n",
       "2-3 days                                     3458        3458  3458  \n",
       "31-45 days                                   3649        3649  3649  \n",
       "4-7 days                                     3773        3773  3773  \n",
       "46-60 days                                   3197        3197  3197  \n",
       "61-90 days                                   3058        3058  3058  \n",
       "8-14 days                                    3910        3910  3910  \n",
       "Post Book                                      15          15    15  "
      ]
     },
     "execution_count": 63,
     "metadata": {},
     "output_type": "execute_result"
    }
   ],
   "source": [
    "desktop_data.groupby(by=[\"Booking Window Group\"]).count()"
   ]
  },
  {
   "cell_type": "code",
   "execution_count": 64,
   "metadata": {},
   "outputs": [],
   "source": [
    "desktop_booking_windows = [3446,3458,3773,3910,4098,3649,3197,3058,3511]"
   ]
  },
  {
   "cell_type": "code",
   "execution_count": 65,
   "metadata": {},
   "outputs": [
    {
     "data": {
      "text/plain": [
       "True"
      ]
     },
     "execution_count": 65,
     "metadata": {},
     "output_type": "execute_result"
    }
   ],
   "source": [
    "sum(desktop_booking_windows) == len(desktop_data) - 15"
   ]
  },
  {
   "cell_type": "code",
   "execution_count": null,
   "metadata": {},
   "outputs": [],
   "source": []
  },
  {
   "cell_type": "markdown",
   "metadata": {},
   "source": []
  },
  {
   "cell_type": "code",
   "execution_count": 66,
   "metadata": {},
   "outputs": [
    {
     "data": {
      "text/html": [
       "<div>\n",
       "<style scoped>\n",
       "    .dataframe tbody tr th:only-of-type {\n",
       "        vertical-align: middle;\n",
       "    }\n",
       "\n",
       "    .dataframe tbody tr th {\n",
       "        vertical-align: top;\n",
       "    }\n",
       "\n",
       "    .dataframe thead th {\n",
       "        text-align: right;\n",
       "    }\n",
       "</style>\n",
       "<table border=\"1\" class=\"dataframe\">\n",
       "  <thead>\n",
       "    <tr style=\"text-align: right;\">\n",
       "      <th></th>\n",
       "      <th>Week</th>\n",
       "      <th>Mobile Indicator Name</th>\n",
       "      <th>Platform Type Name</th>\n",
       "      <th>Super Region</th>\n",
       "      <th>Country Name</th>\n",
       "      <th>Property Country</th>\n",
       "      <th>Net Gross Booking Value USD</th>\n",
       "      <th>Net Orders</th>\n",
       "      <th>Year</th>\n",
       "    </tr>\n",
       "    <tr>\n",
       "      <th>Booking Window Group</th>\n",
       "      <th></th>\n",
       "      <th></th>\n",
       "      <th></th>\n",
       "      <th></th>\n",
       "      <th></th>\n",
       "      <th></th>\n",
       "      <th></th>\n",
       "      <th></th>\n",
       "      <th></th>\n",
       "    </tr>\n",
       "  </thead>\n",
       "  <tbody>\n",
       "    <tr>\n",
       "      <th>+90 days</th>\n",
       "      <td>3461</td>\n",
       "      <td>3461</td>\n",
       "      <td>3461</td>\n",
       "      <td>3461</td>\n",
       "      <td>3461</td>\n",
       "      <td>3461</td>\n",
       "      <td>3461</td>\n",
       "      <td>3461</td>\n",
       "      <td>3461</td>\n",
       "    </tr>\n",
       "    <tr>\n",
       "      <th>0-1 days</th>\n",
       "      <td>5763</td>\n",
       "      <td>5763</td>\n",
       "      <td>5763</td>\n",
       "      <td>5763</td>\n",
       "      <td>5763</td>\n",
       "      <td>5763</td>\n",
       "      <td>5763</td>\n",
       "      <td>5763</td>\n",
       "      <td>5763</td>\n",
       "    </tr>\n",
       "    <tr>\n",
       "      <th>15-30 days</th>\n",
       "      <td>4163</td>\n",
       "      <td>4163</td>\n",
       "      <td>4163</td>\n",
       "      <td>4163</td>\n",
       "      <td>4163</td>\n",
       "      <td>4163</td>\n",
       "      <td>4163</td>\n",
       "      <td>4163</td>\n",
       "      <td>4163</td>\n",
       "    </tr>\n",
       "    <tr>\n",
       "      <th>2-3 days</th>\n",
       "      <td>4397</td>\n",
       "      <td>4397</td>\n",
       "      <td>4397</td>\n",
       "      <td>4397</td>\n",
       "      <td>4397</td>\n",
       "      <td>4397</td>\n",
       "      <td>4397</td>\n",
       "      <td>4397</td>\n",
       "      <td>4397</td>\n",
       "    </tr>\n",
       "    <tr>\n",
       "      <th>31-45 days</th>\n",
       "      <td>3654</td>\n",
       "      <td>3654</td>\n",
       "      <td>3654</td>\n",
       "      <td>3654</td>\n",
       "      <td>3654</td>\n",
       "      <td>3654</td>\n",
       "      <td>3654</td>\n",
       "      <td>3654</td>\n",
       "      <td>3654</td>\n",
       "    </tr>\n",
       "    <tr>\n",
       "      <th>4-7 days</th>\n",
       "      <td>4093</td>\n",
       "      <td>4093</td>\n",
       "      <td>4093</td>\n",
       "      <td>4093</td>\n",
       "      <td>4093</td>\n",
       "      <td>4093</td>\n",
       "      <td>4093</td>\n",
       "      <td>4093</td>\n",
       "      <td>4093</td>\n",
       "    </tr>\n",
       "    <tr>\n",
       "      <th>46-60 days</th>\n",
       "      <td>2963</td>\n",
       "      <td>2963</td>\n",
       "      <td>2963</td>\n",
       "      <td>2963</td>\n",
       "      <td>2963</td>\n",
       "      <td>2963</td>\n",
       "      <td>2963</td>\n",
       "      <td>2963</td>\n",
       "      <td>2963</td>\n",
       "    </tr>\n",
       "    <tr>\n",
       "      <th>61-90 days</th>\n",
       "      <td>2785</td>\n",
       "      <td>2785</td>\n",
       "      <td>2785</td>\n",
       "      <td>2785</td>\n",
       "      <td>2785</td>\n",
       "      <td>2785</td>\n",
       "      <td>2785</td>\n",
       "      <td>2785</td>\n",
       "      <td>2785</td>\n",
       "    </tr>\n",
       "    <tr>\n",
       "      <th>8-14 days</th>\n",
       "      <td>3782</td>\n",
       "      <td>3782</td>\n",
       "      <td>3782</td>\n",
       "      <td>3782</td>\n",
       "      <td>3782</td>\n",
       "      <td>3782</td>\n",
       "      <td>3782</td>\n",
       "      <td>3782</td>\n",
       "      <td>3782</td>\n",
       "    </tr>\n",
       "    <tr>\n",
       "      <th>Post Book</th>\n",
       "      <td>24</td>\n",
       "      <td>24</td>\n",
       "      <td>24</td>\n",
       "      <td>24</td>\n",
       "      <td>24</td>\n",
       "      <td>24</td>\n",
       "      <td>24</td>\n",
       "      <td>24</td>\n",
       "      <td>24</td>\n",
       "    </tr>\n",
       "  </tbody>\n",
       "</table>\n",
       "</div>"
      ],
      "text/plain": [
       "                      Week  Mobile Indicator Name  Platform Type Name  \\\n",
       "Booking Window Group                                                    \n",
       "+90 days              3461                   3461                3461   \n",
       "0-1 days              5763                   5763                5763   \n",
       "15-30 days            4163                   4163                4163   \n",
       "2-3 days              4397                   4397                4397   \n",
       "31-45 days            3654                   3654                3654   \n",
       "4-7 days              4093                   4093                4093   \n",
       "46-60 days            2963                   2963                2963   \n",
       "61-90 days            2785                   2785                2785   \n",
       "8-14 days             3782                   3782                3782   \n",
       "Post Book               24                     24                  24   \n",
       "\n",
       "                      Super Region  Country Name  Property Country  \\\n",
       "Booking Window Group                                                 \n",
       "+90 days                      3461          3461              3461   \n",
       "0-1 days                      5763          5763              5763   \n",
       "15-30 days                    4163          4163              4163   \n",
       "2-3 days                      4397          4397              4397   \n",
       "31-45 days                    3654          3654              3654   \n",
       "4-7 days                      4093          4093              4093   \n",
       "46-60 days                    2963          2963              2963   \n",
       "61-90 days                    2785          2785              2785   \n",
       "8-14 days                     3782          3782              3782   \n",
       "Post Book                       24            24                24   \n",
       "\n",
       "                      Net Gross Booking Value USD  Net Orders  Year  \n",
       "Booking Window Group                                                 \n",
       "+90 days                                     3461        3461  3461  \n",
       "0-1 days                                     5763        5763  5763  \n",
       "15-30 days                                   4163        4163  4163  \n",
       "2-3 days                                     4397        4397  4397  \n",
       "31-45 days                                   3654        3654  3654  \n",
       "4-7 days                                     4093        4093  4093  \n",
       "46-60 days                                   2963        2963  2963  \n",
       "61-90 days                                   2785        2785  2785  \n",
       "8-14 days                                    3782        3782  3782  \n",
       "Post Book                                      24          24    24  "
      ]
     },
     "execution_count": 66,
     "metadata": {},
     "output_type": "execute_result"
    }
   ],
   "source": [
    "mobile_data.groupby(by=[\"Booking Window Group\"]).count()"
   ]
  },
  {
   "cell_type": "code",
   "execution_count": 67,
   "metadata": {},
   "outputs": [],
   "source": [
    "mobile_booking_windows = [5763,4397,4093,3782,4163,3654,2963,2785,3461]"
   ]
  },
  {
   "cell_type": "code",
   "execution_count": 68,
   "metadata": {},
   "outputs": [
    {
     "data": {
      "text/plain": [
       "True"
      ]
     },
     "execution_count": 68,
     "metadata": {},
     "output_type": "execute_result"
    }
   ],
   "source": [
    "sum(mobile_booking_windows) == len(mobile_data) - 24"
   ]
  },
  {
   "cell_type": "code",
   "execution_count": 69,
   "metadata": {},
   "outputs": [
    {
     "data": {
      "text/plain": [
       "([0, 1, 2, 3, 4, 5, 6, 7, 8],\n",
       " [Text(0, 0, ''),\n",
       "  Text(0, 0, ''),\n",
       "  Text(0, 0, ''),\n",
       "  Text(0, 0, ''),\n",
       "  Text(0, 0, ''),\n",
       "  Text(0, 0, ''),\n",
       "  Text(0, 0, ''),\n",
       "  Text(0, 0, ''),\n",
       "  Text(0, 0, '')])"
      ]
     },
     "execution_count": 69,
     "metadata": {},
     "output_type": "execute_result"
    },
    {
     "data": {
      "image/png": "[encoded data removed]",
      "text/plain": [
       "<Figure size 432x288 with 1 Axes>"
      ]
     },
     "metadata": {
      "needs_background": "light"
     },
     "output_type": "display_data"
    }
   ],
   "source": [
    "\n",
    "rc('font', weight='bold')\n",
    "plt.plot(booking_window_labels, desktop_booking_windows, alpha=0.5, label='Desktop', color='#FF5741', linewidth=3)\n",
    "plt.plot(booking_window_labels, mobile_booking_windows, alpha=0.5, label='Mobile', color='#0000FD', linewidth=3)\n",
    "plt.legend()\n",
    "plt.xlabel(\"Booking Window Group\")\n",
    "plt.ylabel(\"Number of Bookings Made\")\n",
    "# plt.gca().yaxis.set_major_formatter(PercentFormatter(1))\n",
    "# plt.title(\"Histogram of Correlation Coefficients of Variance of \\n the Heart Rates of Instances in Cohort 1 and Cohort 2\")\n",
    "plt.xticks(rotation = 45)"
   ]
  },
  {
   "cell_type": "code",
   "execution_count": 70,
   "metadata": {},
   "outputs": [
    {
     "data": {
      "text/plain": [
       "MannwhitneyuResult(statistic=29.0, pvalue=0.331387096247615)"
      ]
     },
     "execution_count": 70,
     "metadata": {},
     "output_type": "execute_result"
    }
   ],
   "source": [
    "mannwhitneyu(desktop_booking_windows, mobile_booking_windows)"
   ]
  },
  {
   "cell_type": "code",
   "execution_count": 71,
   "metadata": {},
   "outputs": [
    {
     "data": {
      "text/plain": [
       "32100"
      ]
     },
     "execution_count": 71,
     "metadata": {},
     "output_type": "execute_result"
    }
   ],
   "source": [
    "sum(desktop_booking_windows)"
   ]
  },
  {
   "cell_type": "code",
   "execution_count": 72,
   "metadata": {},
   "outputs": [
    {
     "data": {
      "text/plain": [
       "35061"
      ]
     },
     "execution_count": 72,
     "metadata": {},
     "output_type": "execute_result"
    }
   ],
   "source": [
    "sum(mobile_booking_windows)"
   ]
  },
  {
   "cell_type": "markdown",
   "metadata": {},
   "source": [
    "## **Differences in average booking value?**"
   ]
  },
  {
   "cell_type": "markdown",
   "metadata": {},
   "source": [
    "First will create a column of \"Net Gross Booking Value USD\"/\"Net Orders\" to obtain average price paid per traveller:"
   ]
  },
  {
   "cell_type": "code",
   "execution_count": 73,
   "metadata": {},
   "outputs": [],
   "source": [
    "desktop_data_not_cancelled = desktop_data[desktop_data[\"Net Orders\"]>0]\n",
    "mobile_data_not_cancelled = mobile_data[mobile_data[\"Net Orders\"]>0]"
   ]
  },
  {
   "cell_type": "code",
   "execution_count": 74,
   "metadata": {},
   "outputs": [
    {
     "name": "stderr",
     "output_type": "stream",
     "text": [
      "/var/folders/kc/f1zxp47n4qq72801tc5mdhtw0000gn/T/ipykernel_42742/3449700816.py:1: SettingWithCopyWarning: \n",
      "A value is trying to be set on a copy of a slice from a DataFrame.\n",
      "Try using .loc[row_indexer,col_indexer] = value instead\n",
      "\n",
      "See the caveats in the documentation: https://pandas.pydata.org/pandas-docs/stable/user_guide/indexing.html#returning-a-view-versus-a-copy\n",
      "  desktop_data_not_cancelled[\"Booking Value Per Person\"] = desktop_data_not_cancelled[\"Net Gross Booking Value USD\"]/desktop_data_not_cancelled[\"Net Orders\"]\n",
      "/var/folders/kc/f1zxp47n4qq72801tc5mdhtw0000gn/T/ipykernel_42742/3449700816.py:2: SettingWithCopyWarning: \n",
      "A value is trying to be set on a copy of a slice from a DataFrame.\n",
      "Try using .loc[row_indexer,col_indexer] = value instead\n",
      "\n",
      "See the caveats in the documentation: https://pandas.pydata.org/pandas-docs/stable/user_guide/indexing.html#returning-a-view-versus-a-copy\n",
      "  mobile_data_not_cancelled[\"Booking Value Per Person\"] = mobile_data_not_cancelled[\"Net Gross Booking Value USD\"]/mobile_data_not_cancelled[\"Net Orders\"]\n"
     ]
    }
   ],
   "source": [
    "desktop_data_not_cancelled[\"Booking Value Per Person\"] = desktop_data_not_cancelled[\"Net Gross Booking Value USD\"]/desktop_data_not_cancelled[\"Net Orders\"]\n",
    "mobile_data_not_cancelled[\"Booking Value Per Person\"] = mobile_data_not_cancelled[\"Net Gross Booking Value USD\"]/mobile_data_not_cancelled[\"Net Orders\"]"
   ]
  },
  {
   "cell_type": "code",
   "execution_count": 78,
   "metadata": {},
   "outputs": [
    {
     "data": {
      "text/plain": [
       "Text(0, 0.5, 'Net Gross Booking Value Per Person USD')"
      ]
     },
     "execution_count": 78,
     "metadata": {},
     "output_type": "execute_result"
    },
    {
     "data": {
      "image/png": "[encoded data removed]",
      "text/plain": [
       "<Figure size 432x288 with 1 Axes>"
      ]
     },
     "metadata": {
      "needs_background": "light"
     },
     "output_type": "display_data"
    }
   ],
   "source": [
    "plt.boxplot([desktop_data_not_cancelled[\"Booking Value Per Person\"], mobile_data_not_cancelled[\"Booking Value Per Person\"]], showfliers=False, meanline=True, showmeans=True)\n",
    "plt.xticks([1, 2], [\"Desktop\", \"Mobile\"])\n",
    "# plt.legend()\n",
    "# plt.boxplot(mobile_data_not_cancelled[\"Booking Value Per Person\"])\n",
    "plt.xlabel(\"Platform Type\")\n",
    "plt.ylabel(\"Net Gross Booking Value Per Person USD\")"
   ]
  },
  {
   "cell_type": "code",
   "execution_count": 79,
   "metadata": {},
   "outputs": [
    {
     "data": {
      "text/plain": [
       "(array([3.1389e+04, 1.7550e+03, 3.7200e+02, 1.4400e+02, 5.4000e+01,\n",
       "        3.1000e+01, 1.7000e+01, 7.0000e+00, 9.0000e+00, 8.0000e+00,\n",
       "        3.0000e+00, 3.0000e+00, 3.0000e+00, 0.0000e+00, 0.0000e+00,\n",
       "        0.0000e+00, 0.0000e+00, 0.0000e+00, 0.0000e+00, 0.0000e+00,\n",
       "        0.0000e+00, 1.0000e+00, 2.0000e+00, 0.0000e+00, 0.0000e+00,\n",
       "        1.0000e+00, 0.0000e+00, 0.0000e+00, 0.0000e+00, 1.0000e+00,\n",
       "        1.0000e+00, 1.0000e+00, 0.0000e+00, 0.0000e+00, 0.0000e+00,\n",
       "        2.0000e+00, 0.0000e+00, 0.0000e+00, 0.0000e+00, 2.0000e+00,\n",
       "        1.0000e+00, 0.0000e+00, 0.0000e+00, 0.0000e+00, 1.0000e+00,\n",
       "        2.0000e+00, 0.0000e+00, 0.0000e+00, 1.0000e+00, 0.0000e+00,\n",
       "        1.0000e+00, 0.0000e+00, 0.0000e+00, 0.0000e+00, 0.0000e+00,\n",
       "        0.0000e+00, 1.0000e+00, 0.0000e+00, 0.0000e+00, 0.0000e+00,\n",
       "        0.0000e+00, 0.0000e+00, 0.0000e+00, 2.0000e+00, 0.0000e+00,\n",
       "        0.0000e+00, 0.0000e+00, 0.0000e+00, 0.0000e+00, 0.0000e+00,\n",
       "        0.0000e+00, 0.0000e+00, 0.0000e+00, 0.0000e+00, 0.0000e+00,\n",
       "        0.0000e+00, 0.0000e+00, 0.0000e+00, 0.0000e+00, 0.0000e+00,\n",
       "        0.0000e+00, 0.0000e+00, 0.0000e+00, 0.0000e+00, 0.0000e+00,\n",
       "        0.0000e+00, 0.0000e+00, 0.0000e+00, 0.0000e+00, 0.0000e+00,\n",
       "        0.0000e+00, 0.0000e+00, 0.0000e+00, 0.0000e+00, 0.0000e+00,\n",
       "        0.0000e+00, 0.0000e+00, 0.0000e+00, 0.0000e+00, 1.0000e+00]),\n",
       " array([    0.      ,   949.800515,  1899.60103 ,  2849.401545,\n",
       "         3799.20206 ,  4749.002575,  5698.80309 ,  6648.603605,\n",
       "         7598.40412 ,  8548.204635,  9498.00515 , 10447.805665,\n",
       "        11397.60618 , 12347.406695, 13297.20721 , 14247.007725,\n",
       "        15196.80824 , 16146.608755, 17096.40927 , 18046.209785,\n",
       "        18996.0103  , 19945.810815, 20895.61133 , 21845.411845,\n",
       "        22795.21236 , 23745.012875, 24694.81339 , 25644.613905,\n",
       "        26594.41442 , 27544.214935, 28494.01545 , 29443.815965,\n",
       "        30393.61648 , 31343.416995, 32293.21751 , 33243.018025,\n",
       "        34192.81854 , 35142.619055, 36092.41957 , 37042.220085,\n",
       "        37992.0206  , 38941.821115, 39891.62163 , 40841.422145,\n",
       "        41791.22266 , 42741.023175, 43690.82369 , 44640.624205,\n",
       "        45590.42472 , 46540.225235, 47490.02575 , 48439.826265,\n",
       "        49389.62678 , 50339.427295, 51289.22781 , 52239.028325,\n",
       "        53188.82884 , 54138.629355, 55088.42987 , 56038.230385,\n",
       "        56988.0309  , 57937.831415, 58887.63193 , 59837.432445,\n",
       "        60787.23296 , 61737.033475, 62686.83399 , 63636.634505,\n",
       "        64586.43502 , 65536.235535, 66486.03605 , 67435.836565,\n",
       "        68385.63708 , 69335.437595, 70285.23811 , 71235.038625,\n",
       "        72184.83914 , 73134.639655, 74084.44017 , 75034.240685,\n",
       "        75984.0412  , 76933.841715, 77883.64223 , 78833.442745,\n",
       "        79783.24326 , 80733.043775, 81682.84429 , 82632.644805,\n",
       "        83582.44532 , 84532.245835, 85482.04635 , 86431.846865,\n",
       "        87381.64738 , 88331.447895, 89281.24841 , 90231.048925,\n",
       "        91180.84944 , 92130.649955, 93080.45047 , 94030.250985,\n",
       "        94980.0515  ]),\n",
       " <BarContainer object of 100 artists>)"
      ]
     },
     "execution_count": 79,
     "metadata": {},
     "output_type": "execute_result"
    },
    {
     "data": {
      "image/png": "[encoded data removed]",
      "text/plain": [
       "<Figure size 432x288 with 1 Axes>"
      ]
     },
     "metadata": {
      "needs_background": "light"
     },
     "output_type": "display_data"
    }
   ],
   "source": [
    "plt.hist(desktop_data_not_cancelled[\"Booking Value Per Person\"], bins=100, alpha=0.5)\n",
    "plt.hist(mobile_data_not_cancelled[\"Booking Value Per Person\"], bins=100, alpha=0.5)"
   ]
  },
  {
   "cell_type": "code",
   "execution_count": 80,
   "metadata": {},
   "outputs": [
    {
     "data": {
      "text/plain": [
       "Ttest_indResult(statistic=9.494603755536438, pvalue=2.298665624263459e-21)"
      ]
     },
     "execution_count": 80,
     "metadata": {},
     "output_type": "execute_result"
    }
   ],
   "source": [
    "ttest_ind(desktop_data_not_cancelled[\"Booking Value Per Person\"], mobile_data_not_cancelled[\"Booking Value Per Person\"], equal_var=False)"
   ]
  },
  {
   "cell_type": "code",
   "execution_count": 81,
   "metadata": {},
   "outputs": [
    {
     "name": "stdout",
     "output_type": "stream",
     "text": [
      "33816 31075\n"
     ]
    }
   ],
   "source": [
    "print(len(mobile_data_not_cancelled), len(desktop_data_not_cancelled))"
   ]
  },
  {
   "cell_type": "markdown",
   "metadata": {},
   "source": [
    "Now testing without the outliers"
   ]
  },
  {
   "cell_type": "code",
   "execution_count": 82,
   "metadata": {},
   "outputs": [],
   "source": [
    "desktop_data_not_cancelled_no_outliers = list(desktop_data_not_cancelled[\"Booking Value Per Person\"])\n",
    "mu = np.mean(desktop_data_not_cancelled_no_outliers)\n",
    "q3, q1 = np.percentile(desktop_data_not_cancelled_no_outliers, [75 ,25])\n",
    "iqr = q3 - q1\n",
    "desktop_outliers = []\n",
    "for i, x in enumerate(desktop_data_not_cancelled_no_outliers):\n",
    "    if abs(x-mu) > 1.5*iqr:\n",
    "        desktop_outliers.append(x)\n",
    "        desktop_data_not_cancelled_no_outliers[i] = mu"
   ]
  },
  {
   "cell_type": "code",
   "execution_count": 83,
   "metadata": {},
   "outputs": [],
   "source": [
    "mobile_data_not_cancelled_no_outliers = list(mobile_data_not_cancelled[\"Booking Value Per Person\"])\n",
    "mu = np.mean(mobile_data_not_cancelled_no_outliers)\n",
    "q3, q1 = np.percentile(mobile_data_not_cancelled_no_outliers, [75 ,25])\n",
    "iqr = q3 - q1\n",
    "mobile_outliers = []\n",
    "for i, x in enumerate(mobile_data_not_cancelled_no_outliers):\n",
    "    if abs(x-mu) > 1.5*iqr:\n",
    "        mobile_outliers.append(x)\n",
    "        mobile_data_not_cancelled_no_outliers[i] = mu"
   ]
  },
  {
   "cell_type": "code",
   "execution_count": 84,
   "metadata": {},
   "outputs": [
    {
     "data": {
      "text/plain": [
       "Text(0, 0.5, 'Net Gross Booking Value Per Person USD')"
      ]
     },
     "execution_count": 84,
     "metadata": {},
     "output_type": "execute_result"
    },
    {
     "data": {
      "image/png": "[encoded data removed]",
      "text/plain": [
       "<Figure size 432x288 with 1 Axes>"
      ]
     },
     "metadata": {
      "needs_background": "light"
     },
     "output_type": "display_data"
    }
   ],
   "source": [
    "plt.boxplot([desktop_data_not_cancelled_no_outliers, mobile_data_not_cancelled_no_outliers], showfliers=False, meanline=True, showmeans=True)\n",
    "plt.xticks([1, 2], [\"Desktop\", \"Mobile\"])\n",
    "# plt.legend()\n",
    "# plt.boxplot(mobile_data_not_cancelled[\"Booking Value Per Person\"])\n",
    "plt.xlabel(\"Platform Type\")\n",
    "plt.ylabel(\"Net Gross Booking Value Per Person USD\")"
   ]
  },
  {
   "cell_type": "code",
   "execution_count": 85,
   "metadata": {},
   "outputs": [
    {
     "data": {
      "text/plain": [
       "Ttest_indResult(statistic=45.74706962831257, pvalue=0.0)"
      ]
     },
     "execution_count": 85,
     "metadata": {},
     "output_type": "execute_result"
    }
   ],
   "source": [
    "ttest_ind(desktop_data_not_cancelled_no_outliers, mobile_data_not_cancelled_no_outliers, equal_var=False)"
   ]
  },
  {
   "cell_type": "code",
   "execution_count": 86,
   "metadata": {},
   "outputs": [
    {
     "data": {
      "text/plain": [
       "<matplotlib.lines.Line2D at 0x7ffd491f9970>"
      ]
     },
     "execution_count": 86,
     "metadata": {},
     "output_type": "execute_result"
    },
    {
     "data": {
      "image/png": "[encoded data removed]",
      "text/plain": [
       "<Figure size 432x288 with 1 Axes>"
      ]
     },
     "metadata": {
      "needs_background": "light"
     },
     "output_type": "display_data"
    }
   ],
   "source": [
    "plt.hist(desktop_outliers, bins=100)\n",
    "plt.axvline(np.mean(desktop_data_not_cancelled_no_outliers))"
   ]
  },
  {
   "cell_type": "code",
   "execution_count": 87,
   "metadata": {},
   "outputs": [
    {
     "data": {
      "text/plain": [
       "<matplotlib.lines.Line2D at 0x7ffd42b3b0a0>"
      ]
     },
     "execution_count": 87,
     "metadata": {},
     "output_type": "execute_result"
    },
    {
     "data": {
      "image/png": "[encoded data removed]",
      "text/plain": [
       "<Figure size 432x288 with 1 Axes>"
      ]
     },
     "metadata": {
      "needs_background": "light"
     },
     "output_type": "display_data"
    }
   ],
   "source": [
    "plt.hist(mobile_outliers, bins=100)\n",
    "plt.axvline(np.mean(mobile_data_not_cancelled_no_outliers))"
   ]
  },
  {
   "cell_type": "code",
   "execution_count": 88,
   "metadata": {},
   "outputs": [
    {
     "data": {
      "text/plain": [
       "Text(0, 0.5, 'Net Gross Booking Value Per Person USD')"
      ]
     },
     "execution_count": 88,
     "metadata": {},
     "output_type": "execute_result"
    },
    {
     "data": {
      "image/png": "[encoded data removed]",
      "text/plain": [
       "<Figure size 432x288 with 1 Axes>"
      ]
     },
     "metadata": {
      "needs_background": "light"
     },
     "output_type": "display_data"
    }
   ],
   "source": [
    "plt.boxplot([desktop_outliers, mobile_outliers], showfliers=False, meanline=True, showmeans=True)\n",
    "plt.xticks([1, 2], [\"Desktop\", \"Mobile\"])\n",
    "# plt.legend()\n",
    "# plt.boxplot(mobile_data_not_cancelled[\"Booking Value Per Person\"])\n",
    "plt.xlabel(\"Platform Type\")\n",
    "plt.ylabel(\"Net Gross Booking Value Per Person USD\")"
   ]
  },
  {
   "cell_type": "markdown",
   "metadata": {},
   "source": [
    "## **Travelling within same country?**"
   ]
  },
  {
   "cell_type": "markdown",
   "metadata": {},
   "source": [
    "### **Data Quality Issue**\n",
    "\n",
    "\"Property Country\" uses United States of America and United Kingdom whereas \"Country Name\" uses US and UK"
   ]
  },
  {
   "cell_type": "code",
   "execution_count": 89,
   "metadata": {},
   "outputs": [],
   "source": [
    "entire_data.replace(to_replace=\"United States of America\", value=\"US\", inplace=True)\n",
    "entire_data.replace(to_replace=\"United Kingdom\", value=\"UK\", inplace=True)"
   ]
  },
  {
   "cell_type": "code",
   "execution_count": 90,
   "metadata": {},
   "outputs": [],
   "source": [
    "same_country = entire_data[entire_data[\"Country Name\"] == entire_data[\"Property Country\"]]"
   ]
  },
  {
   "cell_type": "code",
   "execution_count": 91,
   "metadata": {},
   "outputs": [
    {
     "data": {
      "image/png": "[encoded data removed]",
      "text/plain": [
       "<Figure size 432x288 with 1 Axes>"
      ]
     },
     "metadata": {},
     "output_type": "display_data"
    }
   ],
   "source": [
    "labels = ['Desktop', 'Mobile App', 'Mobile Web']\n",
    "sizes = same_country.groupby(by=[\"Platform Type Name\"]).count()[\"Week\"]\n",
    "colors = ['#FF5741','#0000FD','#58DFB8']\n",
    "plt.pie(sizes, colors = colors, labels=labels, autopct='%1.1f%%', pctdistance=0.5,startangle=90)\n",
    "# plt.title(\"Norway\")\n",
    "\n",
    "centre_circle = plt.Circle((0,0),0.70,fc='white')\n",
    "fig = plt.gcf()\n",
    "fig.gca().add_artist(centre_circle)\n",
    "\n",
    "plt.axis('equal')  \n",
    "plt.tight_layout()\n",
    "plt.show()"
   ]
  },
  {
   "cell_type": "code",
   "execution_count": 92,
   "metadata": {},
   "outputs": [
    {
     "data": {
      "text/html": [
       "<div>\n",
       "<style scoped>\n",
       "    .dataframe tbody tr th:only-of-type {\n",
       "        vertical-align: middle;\n",
       "    }\n",
       "\n",
       "    .dataframe tbody tr th {\n",
       "        vertical-align: top;\n",
       "    }\n",
       "\n",
       "    .dataframe thead th {\n",
       "        text-align: right;\n",
       "    }\n",
       "</style>\n",
       "<table border=\"1\" class=\"dataframe\">\n",
       "  <thead>\n",
       "    <tr style=\"text-align: right;\">\n",
       "      <th></th>\n",
       "      <th>Week</th>\n",
       "      <th>Mobile Indicator Name</th>\n",
       "      <th>Platform Type Name</th>\n",
       "      <th>Country Name</th>\n",
       "      <th>Booking Window Group</th>\n",
       "      <th>Property Country</th>\n",
       "      <th>Net Gross Booking Value USD</th>\n",
       "      <th>Net Orders</th>\n",
       "      <th>Year</th>\n",
       "    </tr>\n",
       "    <tr>\n",
       "      <th>Super Region</th>\n",
       "      <th></th>\n",
       "      <th></th>\n",
       "      <th></th>\n",
       "      <th></th>\n",
       "      <th></th>\n",
       "      <th></th>\n",
       "      <th></th>\n",
       "      <th></th>\n",
       "      <th></th>\n",
       "    </tr>\n",
       "  </thead>\n",
       "  <tbody>\n",
       "    <tr>\n",
       "      <th>APAC</th>\n",
       "      <td>598</td>\n",
       "      <td>598</td>\n",
       "      <td>598</td>\n",
       "      <td>598</td>\n",
       "      <td>598</td>\n",
       "      <td>598</td>\n",
       "      <td>598</td>\n",
       "      <td>598</td>\n",
       "      <td>598</td>\n",
       "    </tr>\n",
       "    <tr>\n",
       "      <th>EMEA</th>\n",
       "      <td>427</td>\n",
       "      <td>427</td>\n",
       "      <td>427</td>\n",
       "      <td>427</td>\n",
       "      <td>427</td>\n",
       "      <td>427</td>\n",
       "      <td>427</td>\n",
       "      <td>427</td>\n",
       "      <td>427</td>\n",
       "    </tr>\n",
       "    <tr>\n",
       "      <th>LATAM</th>\n",
       "      <td>214</td>\n",
       "      <td>214</td>\n",
       "      <td>214</td>\n",
       "      <td>214</td>\n",
       "      <td>214</td>\n",
       "      <td>214</td>\n",
       "      <td>214</td>\n",
       "      <td>214</td>\n",
       "      <td>214</td>\n",
       "    </tr>\n",
       "    <tr>\n",
       "      <th>US</th>\n",
       "      <td>238</td>\n",
       "      <td>238</td>\n",
       "      <td>238</td>\n",
       "      <td>238</td>\n",
       "      <td>238</td>\n",
       "      <td>238</td>\n",
       "      <td>238</td>\n",
       "      <td>238</td>\n",
       "      <td>238</td>\n",
       "    </tr>\n",
       "  </tbody>\n",
       "</table>\n",
       "</div>"
      ],
      "text/plain": [
       "              Week  Mobile Indicator Name  Platform Type Name  Country Name  \\\n",
       "Super Region                                                                  \n",
       "APAC           598                    598                 598           598   \n",
       "EMEA           427                    427                 427           427   \n",
       "LATAM          214                    214                 214           214   \n",
       "US             238                    238                 238           238   \n",
       "\n",
       "              Booking Window Group  Property Country  \\\n",
       "Super Region                                           \n",
       "APAC                           598               598   \n",
       "EMEA                           427               427   \n",
       "LATAM                          214               214   \n",
       "US                             238               238   \n",
       "\n",
       "              Net Gross Booking Value USD  Net Orders  Year  \n",
       "Super Region                                                 \n",
       "APAC                                  598         598   598  \n",
       "EMEA                                  427         427   427  \n",
       "LATAM                                 214         214   214  \n",
       "US                                    238         238   238  "
      ]
     },
     "execution_count": 92,
     "metadata": {},
     "output_type": "execute_result"
    }
   ],
   "source": [
    "same_country.groupby(by=[\"Super Region\"]).count()"
   ]
  },
  {
   "cell_type": "markdown",
   "metadata": {},
   "source": [
    "### **Differences in net orders? (number of people being booked for)**"
   ]
  },
  {
   "cell_type": "code",
   "execution_count": 93,
   "metadata": {},
   "outputs": [
    {
     "data": {
      "text/html": [
       "<div>\n",
       "<style scoped>\n",
       "    .dataframe tbody tr th:only-of-type {\n",
       "        vertical-align: middle;\n",
       "    }\n",
       "\n",
       "    .dataframe tbody tr th {\n",
       "        vertical-align: top;\n",
       "    }\n",
       "\n",
       "    .dataframe thead th {\n",
       "        text-align: right;\n",
       "    }\n",
       "</style>\n",
       "<table border=\"1\" class=\"dataframe\">\n",
       "  <thead>\n",
       "    <tr style=\"text-align: right;\">\n",
       "      <th></th>\n",
       "      <th>Week</th>\n",
       "      <th>Mobile Indicator Name</th>\n",
       "      <th>Platform Type Name</th>\n",
       "      <th>Super Region</th>\n",
       "      <th>Country Name</th>\n",
       "      <th>Booking Window Group</th>\n",
       "      <th>Property Country</th>\n",
       "      <th>Net Gross Booking Value USD</th>\n",
       "      <th>Year</th>\n",
       "    </tr>\n",
       "    <tr>\n",
       "      <th>Net Orders</th>\n",
       "      <th></th>\n",
       "      <th></th>\n",
       "      <th></th>\n",
       "      <th></th>\n",
       "      <th></th>\n",
       "      <th></th>\n",
       "      <th></th>\n",
       "      <th></th>\n",
       "      <th></th>\n",
       "    </tr>\n",
       "  </thead>\n",
       "  <tbody>\n",
       "    <tr>\n",
       "      <th>0</th>\n",
       "      <td>1040</td>\n",
       "      <td>1040</td>\n",
       "      <td>1040</td>\n",
       "      <td>1040</td>\n",
       "      <td>1040</td>\n",
       "      <td>1040</td>\n",
       "      <td>1040</td>\n",
       "      <td>1040</td>\n",
       "      <td>1040</td>\n",
       "    </tr>\n",
       "    <tr>\n",
       "      <th>1</th>\n",
       "      <td>7831</td>\n",
       "      <td>7831</td>\n",
       "      <td>7831</td>\n",
       "      <td>7831</td>\n",
       "      <td>7831</td>\n",
       "      <td>7831</td>\n",
       "      <td>7831</td>\n",
       "      <td>7831</td>\n",
       "      <td>7831</td>\n",
       "    </tr>\n",
       "    <tr>\n",
       "      <th>2</th>\n",
       "      <td>3684</td>\n",
       "      <td>3684</td>\n",
       "      <td>3684</td>\n",
       "      <td>3684</td>\n",
       "      <td>3684</td>\n",
       "      <td>3684</td>\n",
       "      <td>3684</td>\n",
       "      <td>3684</td>\n",
       "      <td>3684</td>\n",
       "    </tr>\n",
       "    <tr>\n",
       "      <th>3</th>\n",
       "      <td>2535</td>\n",
       "      <td>2535</td>\n",
       "      <td>2535</td>\n",
       "      <td>2535</td>\n",
       "      <td>2535</td>\n",
       "      <td>2535</td>\n",
       "      <td>2535</td>\n",
       "      <td>2535</td>\n",
       "      <td>2535</td>\n",
       "    </tr>\n",
       "    <tr>\n",
       "      <th>4</th>\n",
       "      <td>1791</td>\n",
       "      <td>1791</td>\n",
       "      <td>1791</td>\n",
       "      <td>1791</td>\n",
       "      <td>1791</td>\n",
       "      <td>1791</td>\n",
       "      <td>1791</td>\n",
       "      <td>1791</td>\n",
       "      <td>1791</td>\n",
       "    </tr>\n",
       "    <tr>\n",
       "      <th>...</th>\n",
       "      <td>...</td>\n",
       "      <td>...</td>\n",
       "      <td>...</td>\n",
       "      <td>...</td>\n",
       "      <td>...</td>\n",
       "      <td>...</td>\n",
       "      <td>...</td>\n",
       "      <td>...</td>\n",
       "      <td>...</td>\n",
       "    </tr>\n",
       "    <tr>\n",
       "      <th>59226</th>\n",
       "      <td>1</td>\n",
       "      <td>1</td>\n",
       "      <td>1</td>\n",
       "      <td>1</td>\n",
       "      <td>1</td>\n",
       "      <td>1</td>\n",
       "      <td>1</td>\n",
       "      <td>1</td>\n",
       "      <td>1</td>\n",
       "    </tr>\n",
       "    <tr>\n",
       "      <th>61181</th>\n",
       "      <td>1</td>\n",
       "      <td>1</td>\n",
       "      <td>1</td>\n",
       "      <td>1</td>\n",
       "      <td>1</td>\n",
       "      <td>1</td>\n",
       "      <td>1</td>\n",
       "      <td>1</td>\n",
       "      <td>1</td>\n",
       "    </tr>\n",
       "    <tr>\n",
       "      <th>61232</th>\n",
       "      <td>1</td>\n",
       "      <td>1</td>\n",
       "      <td>1</td>\n",
       "      <td>1</td>\n",
       "      <td>1</td>\n",
       "      <td>1</td>\n",
       "      <td>1</td>\n",
       "      <td>1</td>\n",
       "      <td>1</td>\n",
       "    </tr>\n",
       "    <tr>\n",
       "      <th>62494</th>\n",
       "      <td>1</td>\n",
       "      <td>1</td>\n",
       "      <td>1</td>\n",
       "      <td>1</td>\n",
       "      <td>1</td>\n",
       "      <td>1</td>\n",
       "      <td>1</td>\n",
       "      <td>1</td>\n",
       "      <td>1</td>\n",
       "    </tr>\n",
       "    <tr>\n",
       "      <th>63230</th>\n",
       "      <td>1</td>\n",
       "      <td>1</td>\n",
       "      <td>1</td>\n",
       "      <td>1</td>\n",
       "      <td>1</td>\n",
       "      <td>1</td>\n",
       "      <td>1</td>\n",
       "      <td>1</td>\n",
       "      <td>1</td>\n",
       "    </tr>\n",
       "  </tbody>\n",
       "</table>\n",
       "<p>639 rows × 9 columns</p>\n",
       "</div>"
      ],
      "text/plain": [
       "            Week  Mobile Indicator Name  Platform Type Name  Super Region  \\\n",
       "Net Orders                                                                  \n",
       "0           1040                   1040                1040          1040   \n",
       "1           7831                   7831                7831          7831   \n",
       "2           3684                   3684                3684          3684   \n",
       "3           2535                   2535                2535          2535   \n",
       "4           1791                   1791                1791          1791   \n",
       "...          ...                    ...                 ...           ...   \n",
       "59226          1                      1                   1             1   \n",
       "61181          1                      1                   1             1   \n",
       "61232          1                      1                   1             1   \n",
       "62494          1                      1                   1             1   \n",
       "63230          1                      1                   1             1   \n",
       "\n",
       "            Country Name  Booking Window Group  Property Country  \\\n",
       "Net Orders                                                         \n",
       "0                   1040                  1040              1040   \n",
       "1                   7831                  7831              7831   \n",
       "2                   3684                  3684              3684   \n",
       "3                   2535                  2535              2535   \n",
       "4                   1791                  1791              1791   \n",
       "...                  ...                   ...               ...   \n",
       "59226                  1                     1                 1   \n",
       "61181                  1                     1                 1   \n",
       "61232                  1                     1                 1   \n",
       "62494                  1                     1                 1   \n",
       "63230                  1                     1                 1   \n",
       "\n",
       "            Net Gross Booking Value USD  Year  \n",
       "Net Orders                                     \n",
       "0                                  1040  1040  \n",
       "1                                  7831  7831  \n",
       "2                                  3684  3684  \n",
       "3                                  2535  2535  \n",
       "4                                  1791  1791  \n",
       "...                                 ...   ...  \n",
       "59226                                 1     1  \n",
       "61181                                 1     1  \n",
       "61232                                 1     1  \n",
       "62494                                 1     1  \n",
       "63230                                 1     1  \n",
       "\n",
       "[639 rows x 9 columns]"
      ]
     },
     "execution_count": 93,
     "metadata": {},
     "output_type": "execute_result"
    }
   ],
   "source": [
    "desktop_data.groupby(by=[\"Net Orders\"]).count()"
   ]
  },
  {
   "cell_type": "markdown",
   "metadata": {},
   "source": [
    "### **Data Quality Issue**\n",
    "\n",
    "Some anomalous net order values of 10s of thousands\n",
    "\n",
    "Will remove any instance with a net order size greater than 300"
   ]
  },
  {
   "cell_type": "code",
   "execution_count": 122,
   "metadata": {},
   "outputs": [],
   "source": [
    "desktop_data_net = desktop_data[desktop_data[\"Net Orders\"] < 10]\n",
    "mobile_data_net = mobile_data[mobile_data[\"Net Orders\"] < 10]\n",
    "\n",
    "desktop_data_net = desktop_data_net[desktop_data_net[\"Net Orders\"] > 0]\n",
    "mobile_data_net = mobile_data_net[mobile_data_net[\"Net Orders\"] > 0]"
   ]
  },
  {
   "cell_type": "code",
   "execution_count": 123,
   "metadata": {},
   "outputs": [],
   "source": [
    "desktop_data_net_large = desktop_data[desktop_data[\"Net Orders\"] > 9]\n",
    "mobile_data_net_large = mobile_data[mobile_data[\"Net Orders\"] > 9]\n",
    "\n",
    "desktop_data_net_large = desktop_data_net_large[desktop_data_net_large[\"Net Orders\"] < 100]\n",
    "mobile_data_net_large = mobile_data_net_large[mobile_data_net_large[\"Net Orders\"] < 100]"
   ]
  },
  {
   "cell_type": "code",
   "execution_count": 124,
   "metadata": {},
   "outputs": [
    {
     "data": {
      "text/plain": [
       "Net Orders\n",
       "1    7831\n",
       "2    3684\n",
       "3    2535\n",
       "4    1791\n",
       "5    1306\n",
       "6    1097\n",
       "7     879\n",
       "8     775\n",
       "9     652\n",
       "Name: Week, dtype: int64"
      ]
     },
     "execution_count": 124,
     "metadata": {},
     "output_type": "execute_result"
    }
   ],
   "source": [
    "desktop_data_net.groupby(by=[\"Net Orders\"]).count()[\"Week\"]"
   ]
  },
  {
   "cell_type": "code",
   "execution_count": 129,
   "metadata": {},
   "outputs": [
    {
     "data": {
      "text/plain": [
       "Text(0, 0.5, 'Number of Bookings Made')"
      ]
     },
     "execution_count": 129,
     "metadata": {},
     "output_type": "execute_result"
    },
    {
     "data": {
      "image/png": "[encoded data removed]",
      "text/plain": [
       "<Figure size 432x288 with 1 Axes>"
      ]
     },
     "metadata": {
      "needs_background": "light"
     },
     "output_type": "display_data"
    }
   ],
   "source": [
    "rc('font', weight='bold')\n",
    "plt.plot(desktop_data_net.groupby(by=[\"Net Orders\"]).count()[\"Week\"], alpha=0.5, label='Desktop', color='#FF5741', linewidth=3)\n",
    "plt.plot(mobile_data_net.groupby(by=[\"Net Orders\"]).count()[\"Week\"], alpha=0.5, label='Mobile', color='#0000FD', linewidth=3)\n",
    "plt.legend()\n",
    "plt.xlabel(\"Number of People Booked For\")\n",
    "plt.ylabel(\"Number of Bookings Made\")\n",
    "# plt.gca().yaxis.set_major_formatter(PercentFormatter(1))\n",
    "# plt.title(\"Histogram of Correlation Coefficients of Variance of \\n the Heart Rates of Instances in Cohort 1 and Cohort 2\")\n",
    "# plt.xticks(rotation = 45)"
   ]
  },
  {
   "cell_type": "code",
   "execution_count": 130,
   "metadata": {},
   "outputs": [
    {
     "data": {
      "text/plain": [
       "Text(0, 0.5, 'Number of Bookings Made')"
      ]
     },
     "execution_count": 130,
     "metadata": {},
     "output_type": "execute_result"
    },
    {
     "data": {
      "image/png": "[encoded data removed]",
      "text/plain": [
       "<Figure size 432x288 with 1 Axes>"
      ]
     },
     "metadata": {
      "needs_background": "light"
     },
     "output_type": "display_data"
    }
   ],
   "source": [
    "rc('font', weight='bold')\n",
    "plt.plot(desktop_data_net_large.groupby(by=[\"Net Orders\"]).count()[\"Week\"], alpha=0.5, label='Desktop', color='#FF5741', linewidth=3)\n",
    "plt.plot(mobile_data_net_large.groupby(by=[\"Net Orders\"]).count()[\"Week\"], alpha=0.5, label='Mobile', color='#0000FD', linewidth=3)\n",
    "plt.legend()\n",
    "plt.xlabel(\"Number of People Booked For\")\n",
    "plt.ylabel(\"Number of Bookings Made\")\n",
    "# plt.gca().yaxis.set_major_formatter(PercentFormatter(1))\n",
    "# plt.title(\"Histogram of Correlation Coefficients of Variance of \\n the Heart Rates of Instances in Cohort 1 and Cohort 2\")\n",
    "# plt.xticks(rotation = 45)"
   ]
  },
  {
   "cell_type": "code",
   "execution_count": null,
   "metadata": {},
   "outputs": [],
   "source": []
  },
  {
   "cell_type": "code",
   "execution_count": null,
   "metadata": {},
   "outputs": [],
   "source": []
  },
  {
   "cell_type": "code",
   "execution_count": 161,
   "metadata": {},
   "outputs": [],
   "source": [
    "with pd.ExcelWriter('separated_data.xlsx') as writer:  \n",
    "    desktop_data.to_excel(writer, sheet_name='desktop')\n",
    "    mobile_data.to_excel(writer, sheet_name='mobile')\n",
    "    mobile_web_data.to_excel(writer, sheet_name='mobile_web')\n",
    "    mobile_app_data.to_excel(writer, sheet_name='mobile_app')"
   ]
  },
  {
   "cell_type": "code",
   "execution_count": null,
   "metadata": {},
   "outputs": [],
   "source": []
  }
 ],
 "metadata": {
  "kernelspec": {
   "display_name": "Python 3.8.11 ('base')",
   "language": "python",
   "name": "python3"
  },
  "language_info": {
   "codemirror_mode": {
    "name": "ipython",
    "version": 3
   },
   "file_extension": ".py",
   "mimetype": "text/x-python",
   "name": "python",
   "nbconvert_exporter": "python",
   "pygments_lexer": "ipython3",
   "version": "3.8.11"
  },
  "orig_nbformat": 4,
  "vscode": {
   "interpreter": {
    "hash": "908e60022c9d4979c292b8b79e14df3460174af298c7d4fb047b137ea57e6458"
   }
  }
 },
 "nbformat": 4,
 "nbformat_minor": 2
}
